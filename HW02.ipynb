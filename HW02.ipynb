{
 "cells": [
  {
   "cell_type": "code",
   "execution_count": 55,
   "metadata": {},
   "outputs": [
    {
     "name": "stdout",
     "output_type": "stream",
     "text": [
      "Removing features with low variance -  \t[]\n"
     ]
    },
    {
     "data": {
      "text/plain": [
       "array([ 6.,  2.,  5., ...,  2.,  2.,  6.])"
      ]
     },
     "execution_count": 55,
     "metadata": {},
     "output_type": "execute_result"
    }
   ],
   "source": [
    "import matplotlib.pyplot as plt\n",
    "%matplotlib inline\n",
    "import numpy as np\n",
    "import pandas as pd\n",
    "import pylab as p\n",
    "\n",
    "# Import feature selection package\n",
    "from sklearn.feature_selection import VarianceThreshold\n",
    "from sklearn.feature_selection import SelectPercentile, f_classif, mutual_info_classif\n",
    "\n",
    "#set your working_dir\n",
    "working_dir = \".\"\n",
    "\n",
    "# For .read_csv, always use header=0 when you know row 0 is the header row\n",
    "df = pd.read_csv(working_dir+\"/data/ElectionsData-full.csv\", header=0)\n",
    "\n",
    "numeric_fields = df.select_dtypes(exclude=[\"object\"])\n",
    "categorial_fields = df.select_dtypes(include=[\"object\"])\n",
    "\n",
    "# Fill numeric fields\n",
    "for f in numeric_fields:\n",
    "    df[f].fillna(df[f].median(), inplace=True)\n",
    "    \n",
    "    \n",
    "# Fill categorial fields    \n",
    "for f in categorial_fields:\n",
    "    df[f].fillna(df[f].value_counts().idxmax(), inplace=True)\n",
    "        \n",
    "\n",
    "# Change all categorial to numeric\n",
    "ObjFeat=df.keys()[df.dtypes.map(lambda x: x=='object')]\n",
    "\n",
    "# Transform the original features to categorical\n",
    "# Creat new 'int' features, resp.\n",
    "for f in ObjFeat:\n",
    "    df[f] = df[f].astype(\"category\")\n",
    "    df[f+\"Int\"] = df[f].cat.rename_categories(range(df[f].nunique())).astype(int)\n",
    "    df.loc[df[f].isnull(), f+\"Int\"] = np.nan #fix NaN conversion\n",
    "\n",
    "# Outliar detection\n",
    "threshold = 3\n",
    "for f in numeric_fields:\n",
    "    std = df[f].std()\n",
    "    mean = df[f].mean()\n",
    "    df = df[df[f].between(mean - threshold *std, mean + threshold *std)]   \n",
    "      \n",
    "\n",
    "numeric_fields = df.select_dtypes(exclude=[\"category\"])\n",
    "\n",
    "for f in numeric_fields:\n",
    "    if f != \"VoteInt\":\n",
    "        df[f] = (df[f] - df[f].min()) / (df[f].max() - df[f].min())\n",
    "    \n",
    "df[\"Age_groupInt\"] = df[\"Age_group\"].map( {'Below_30':0, '30-45':1, '45_and_up': 2}).astype(int)\n",
    "df[\"Voting_TimeInt\"] = df[\"Voting_Time\"].map( {'By_16:00':0, 'After_16:00':1}).astype(int)\n",
    "df[\"GenderInt\"] = df[\"Gender\"].map( {'Male':-1, 'Female':1}).astype(int)\n",
    "\n",
    "def transform_bool(name):\n",
    "    df[name + \"_Int\"] = df[name].map( {'No':-1, \"Maybe\": 0, 'Yes':1}).astype(int)\n",
    "\n",
    "def transform_category(name):\n",
    "    for cat in df[name].unique():\n",
    "        df[\"Is_\" + name +\"_\" + cat] = (df[name] == cat).astype(int)\n",
    "    \n",
    "transform_bool(\"Looking_at_poles_results\")\n",
    "transform_bool(\"Married\")\n",
    "transform_bool(\"Financial_agenda_matters\")\n",
    "transform_bool(\"Will_vote_only_large_party\")\n",
    "transform_category(\"Most_Important_Issue\")\n",
    "transform_category(\"Occupation\")\n",
    "transform_category(\"Main_transportation\")\n",
    "\n",
    "    \n",
    "\n",
    "category_features = df.select_dtypes(include=[\"category\"])\n",
    "\n",
    "df = df.drop(category_features, axis=1)\n",
    "\n",
    "feat_names = df.drop(['VoteInt'], axis=1).columns.values\n",
    "\n",
    "# Convert to np array\n",
    "df_data_X = df.drop(['VoteInt'], axis=1).values\n",
    "df_data_Y = df.VoteInt.values\n",
    "\n",
    "# Remove feature with low varriance\n",
    "varsel = VarianceThreshold(threshold=0.01)\n",
    "df_data_X = varsel.fit_transform(df_data_X)\n",
    "featsel_idx = varsel.get_support()\n",
    "\n",
    "print 'Removing features with low variance - ','\\t',feat_names[~featsel_idx]\n",
    "\n",
    "df_data_Y\n"
   ]
  },
  {
   "cell_type": "code",
   "execution_count": 66,
   "metadata": {},
   "outputs": [
    {
     "data": {
      "text/plain": [
       "Avg_Satisfaction_with_previous_vote    Avg_monthly_expense_when_under_age_21            0.983322\n",
       "Avg_monthly_expense_on_pets_or_plants  Garden_sqr_meter_per_person_in_residancy_area    0.972232\n",
       "Avg_monthly_household_cost             Yearly_IncomeK                                   0.944953\n",
       "Phone_minutes_10_years                 Garden_sqr_meter_per_person_in_residancy_area    0.965118\n",
       "                                       Avg_monthly_expense_on_pets_or_plants            0.967513\n",
       "Avg_size_per_room                      Yearly_IncomeK                                   0.982222\n",
       "                                       Avg_monthly_household_cost                       0.942580\n",
       "Avg_monthly_income_all_years           Avg_monthly_expense_when_under_age_21            0.920777\n",
       "                                       Avg_Satisfaction_with_previous_vote              0.921493\n",
       "Political_interest_Total_Score         Avg_monthly_household_cost                       0.946412\n",
       "Looking_at_poles_results_Int           Looking_at_poles_resultsInt                      1.000000\n",
       "Married_Int                            MarriedInt                                       1.000000\n",
       "Financial_agenda_matters_Int           Financial_agenda_mattersInt                      1.000000\n",
       "dtype: float64"
      ]
     },
     "execution_count": 66,
     "metadata": {},
     "output_type": "execute_result"
    }
   ],
   "source": [
    "cor = df.corr()\n",
    "cor.loc[:,:] =  np.tril(cor, k=-1)\n",
    "cor = cor.stack()\n",
    "cor[cor > 0.9]"
   ]
  },
  {
   "cell_type": "code",
   "execution_count": 58,
   "metadata": {},
   "outputs": [
    {
     "name": "stdout",
     "output_type": "stream",
     "text": [
      "Optimal number of features : 21\n"
     ]
    },
    {
     "data": {
      "image/png": "[encoded data removed]",
      "text/plain": [
       "<matplotlib.figure.Figure at 0x11347aad0>"
      ]
     },
     "metadata": {},
     "output_type": "display_data"
    }
   ],
   "source": [
    "from sklearn.feature_selection import RFECV\n",
    "from sklearn.svm import SVC\n",
    "from sklearn.preprocessing import MinMaxScaler\n",
    "\n",
    "# The \"accuracy\" scoring is proportional to the number of correct\n",
    "# classifications\n",
    "svc = SVC(kernel=\"linear\", C=1)\n",
    "rfecv = RFECV(estimator=svc, step=1, cv=3, scoring='accuracy')\n",
    "rfecv.fit(df_data_X, df_data_Y)\n",
    "\n",
    "minmax = MinMaxScaler()\n",
    "scores = map(float, rfecv.ranking_)\n",
    "scores = minmax.fit_transform(-1.0*np.array([scores]).T).T[0]\n",
    "\n",
    "print(\"Optimal number of features : %d\" % rfecv.n_features_)\n",
    "\n",
    "# Plot number of features VS. cross-validation scores\n",
    "plt.figure()\n",
    "plt.xlabel(\"Number of features selected\")\n",
    "plt.ylabel(\"Cross validation score (nb of correct classifications)\")\n",
    "plt.plot(range(1, len(rfecv.grid_scores_) + 1), rfecv.grid_scores_)\n",
    "plt.show()"
   ]
  },
  {
   "cell_type": "code",
   "execution_count": null,
   "metadata": {
    "collapsed": true
   },
   "outputs": [],
   "source": []
  },
  {
   "cell_type": "code",
   "execution_count": 61,
   "metadata": {},
   "outputs": [
    {
     "name": "stdout",
     "output_type": "stream",
     "text": [
      "Optimal number of features : 28\n"
     ]
    },
    {
     "data": {
      "image/png": "[encoded data removed]",
      "text/plain": [
       "<matplotlib.figure.Figure at 0x10ba2f6d0>"
      ]
     },
     "metadata": {},
     "output_type": "display_data"
    }
   ],
   "source": [
    "from sklearn.feature_selection import RFECV\n",
    "from sklearn.svm import SVC\n",
    "from sklearn.preprocessing import MinMaxScaler\n",
    "\n",
    "# The \"accuracy\" scoring is proportional to the number of correct\n",
    "# classifications\n",
    "svc = SVC(kernel=\"linear\", C=1)\n",
    "rfecv = RFECV(estimator=svc, step=1, cv=5, scoring='accuracy')\n",
    "rfecv.fit(df_data_X, df_data_Y)\n",
    "\n",
    "minmax = MinMaxScaler()\n",
    "scores = map(float, rfecv.ranking_)\n",
    "scores = minmax.fit_transform(-1.0*np.array([scores]).T).T[0]\n",
    "\n",
    "print(\"Optimal number of features : %d\" % rfecv.n_features_)\n",
    "\n",
    "# Plot number of features VS. cross-validation scores\n",
    "plt.figure()\n",
    "plt.xlabel(\"Number of features selected\")\n",
    "plt.ylabel(\"Cross validation score (nb of correct classifications)\")\n",
    "plt.plot(range(1, len(rfecv.grid_scores_) + 1), rfecv.grid_scores_)\n",
    "plt.show()"
   ]
  },
  {
   "cell_type": "code",
   "execution_count": 57,
   "metadata": {},
   "outputs": [
    {
     "data": {
      "image/png": "[encoded data removed]",
      "text/plain": [
       "<matplotlib.figure.Figure at 0x11340a150>"
      ]
     },
     "metadata": {},
     "output_type": "display_data"
    }
   ],
   "source": [
    "# Univariate feature selection with F-test for feature scoring\n",
    "# We use the default selection function: the 15% most significant features\n",
    "selector = SelectPercentile(f_classif, percentile=15)\n",
    "selector.fit(df_data_X, df_data_Y)\n",
    "f_scores = selector.scores_\n",
    "f_scores /= f_scores.max()\n",
    "\n",
    "X_indices = np.arange(df_data_X.shape[-1])\n",
    "\n",
    "plt.bar(X_indices - .65, f_scores, width=.3,\n",
    "        label='f_classif', color='g')\n",
    "\n",
    "# Univariate feature selection with mutual information for feature scoring\n",
    "selector = SelectPercentile(mutual_info_classif, percentile=15)\n",
    "selector.fit(df_data_X, df_data_Y)\n",
    "MI_scores = selector.scores_\n",
    "MI_scores /= MI_scores.max()\n",
    "\n",
    "plt.bar(X_indices - .35, MI_scores, width=.3,\n",
    "        label='MI', color='b')\n",
    "\n",
    "plt.title(\"Comparing Univariate Feature Selection\")\n",
    "plt.xlabel('Feature number')\n",
    "plt.yticks(())\n",
    "plt.axis('tight')\n",
    "plt.legend(loc='upper right')\n",
    "plt.show()"
   ]
  },
  {
   "cell_type": "code",
   "execution_count": 60,
   "metadata": {},
   "outputs": [
    {
     "data": {
      "image/png": "[encoded data removed]",
      "text/plain": [
       "<matplotlib.figure.Figure at 0x1a15b64b50>"
      ]
     },
     "metadata": {},
     "output_type": "display_data"
    }
   ],
   "source": [
    "#Tree-based feature selection\n",
    "from sklearn.ensemble import ExtraTreesClassifier\n",
    "from sklearn.feature_selection import SelectFromModel\n",
    "\n",
    "clf = ExtraTreesClassifier()\n",
    "clf = clf.fit(df_data_X, df_data_Y)\n",
    "tree_weights = clf.feature_importances_  \n",
    "tree_weights /= tree_weights.max()\n",
    "\n",
    "plt.bar(X_indices - .05, tree_weights, width=.3, \n",
    "        label='Tree weight', color='r')\n",
    "plt.bar(X_indices - .35, MI_scores, width=.3,\n",
    "        label='MI', color='b')\n",
    "plt.bar(X_indices - .65, f_scores, width=.3,\n",
    "        label='f_classif', color='g')\n",
    "\n",
    "\n",
    "plt.title(\"Comparing Univariate and Embedded Feature Selection\")\n",
    "plt.xlabel('Feature number')\n",
    "plt.yticks(())\n",
    "plt.axis('tight')\n",
    "plt.legend(loc='upper right')\n",
    "plt.show()"
   ]
  },
  {
   "cell_type": "code",
   "execution_count": 65,
   "metadata": {},
   "outputs": [
    {
     "name": "stdout",
     "output_type": "stream",
     "text": [
      "Avg_monthly_expense_when_under_age_21\n",
      "AVG_lottary_expanses\n",
      "Avg_Satisfaction_with_previous_vote\n",
      "Garden_sqr_meter_per_person_in_residancy_area\n",
      "Yearly_IncomeK\n",
      "Avg_monthly_expense_on_pets_or_plants\n",
      "Avg_monthly_household_cost\n",
      "Phone_minutes_10_years\n",
      "Avg_size_per_room\n",
      "Weighted_education_rank\n",
      "Avg_monthly_income_all_years\n",
      "Last_school_grades\n",
      "Political_interest_Total_Score\n",
      "Number_of_valued_Kneset_members\n",
      "Overall_happiness_score\n",
      "Most_Important_IssueInt\n",
      "Will_vote_only_large_partyInt\n",
      "Looking_at_poles_results_Int\n",
      "Married_Int\n",
      "Will_vote_only_large_party_Int\n",
      "Is_Most_Important_Issue_Healthcare\n",
      "Is_Most_Important_Issue_Environment\n",
      "Is_Most_Important_Issue_Social\n",
      "Is_Most_Important_Issue_Military\n",
      "Is_Most_Important_Issue_Financial\n",
      "Is_Most_Important_Issue_Education\n",
      "Is_Most_Important_Issue_Other\n",
      "Is_Most_Important_Issue_Foreign_Affairs\n"
     ]
    }
   ],
   "source": [
    "for idx, val in enumerate(rfecv.get_support()):\n",
    "     if val:\n",
    "        print df.drop(['VoteInt'], axis=1).columns[idx]\n",
    "        \n",
    "        "
   ]
  },
  {
   "cell_type": "code",
   "execution_count": null,
   "metadata": {
    "collapsed": true
   },
   "outputs": [],
   "source": []
  }
 ],
 "metadata": {
  "kernelspec": {
   "display_name": "Python 2",
   "language": "python",
   "name": "python2"
  },
  "language_info": {
   "codemirror_mode": {
    "name": "ipython",
    "version": 2
   },
   "file_extension": ".py",
   "mimetype": "text/x-python",
   "name": "python",
   "nbconvert_exporter": "python",
   "pygments_lexer": "ipython2",
   "version": "2.7.13"
  }
 },
 "nbformat": 4,
 "nbformat_minor": 2
}
