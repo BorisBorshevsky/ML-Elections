{
 "cells": [
  {
   "cell_type": "code",
   "execution_count": 1,
   "metadata": {
    "collapsed": true
   },
   "outputs": [],
   "source": [
    "import pandas as pd\n",
    "\n",
    "import numpy as np\n",
    "from sklearn.model_selection import cross_val_score, train_test_split\n",
    "from sklearn.multiclass import OneVsOneClassifier\n",
    "from sklearn.neighbors import KNeighborsClassifier\n",
    "from sklearn.naive_bayes import GaussianNB\n",
    "from sklearn.tree import DecisionTreeClassifier\n",
    "from sklearn.linear_model import Perceptron\n",
    "from sklearn.svm import SVC\n",
    "from sklearn.neural_network import MLPClassifier\n",
    "from sklearn.svm import LinearSVC\n",
    "from sklearn.metrics import classification_report\n",
    "from sklearn.model_selection import cross_val_predict\n",
    "from sklearn.model_selection import RepeatedStratifiedKFold\n",
    "from sklearn.metrics import confusion_matrix\n",
    "from sklearn.discriminant_analysis import LinearDiscriminantAnalysis\n",
    "from sklearn.ensemble import RandomForestClassifier"
   ]
  },
  {
   "cell_type": "code",
   "execution_count": 2,
   "metadata": {
    "collapsed": true
   },
   "outputs": [],
   "source": [
    "def load_prepared_data():\n",
    "\tdf_train = pd.read_csv('./data/output/processed_train.csv', header=0)\n",
    "\tdf_test = pd.read_csv('./data/output/processed_test.csv', header=0)\n",
    "\tfeatures = list(set(df_train.columns) - {'Vote'})\n",
    "\ttarget = 'Vote'\n",
    "\n",
    "\tdf_train_X = df_train[features]\n",
    "\tdf_train_Y = df_train[target]\n",
    "\tdf_test_X = df_test[features]\n",
    "\tdf_test_Y = df_test[target]\n",
    "# \tlabels = {\"0\":\"Blues\",\"1\":\"Browns\",\"2\":\"Greens\",\"3\":\"Greys\",\"4\":\"Oranges\",\"5\":\"Pinks\",\"6\":\"Purples\",\"7\":\"Reds\",\"8\":\"Whites\",\"9\":\"Yellows\" }\n",
    " \tlabels = [\"Blues\",\"Browns\",\"Greens\",\"Greys\",\"Oranges\",\"Pinks\",\"Purples\",\"Reds\",\"Whites\",\"Yellows\"]\n",
    "\treturn df_train_X, df_train_Y, df_test_X, df_test_Y, labels"
   ]
  },
  {
   "cell_type": "code",
   "execution_count": 3,
   "metadata": {
    "collapsed": true
   },
   "outputs": [],
   "source": [
    "df_train_X, df_train_Y, df_test_X, df_test_Y, labels = load_prepared_data()\n",
    "\n",
    "train_val_data = pd.concat([df_train_X])\n",
    "features = train_val_data.values\n",
    "target = pd.concat([df_train_Y]).values"
   ]
  },
  {
   "cell_type": "code",
   "execution_count": 4,
   "metadata": {},
   "outputs": [
    {
     "name": "stdout",
     "output_type": "stream",
     "text": [
      "linear SVC score: 0.879021, std: 0.013906\n"
     ]
    }
   ],
   "source": [
    "clf = SVC(kernel='linear')\n",
    "scores = cross_val_score(clf, features, target, cv=15)\n",
    "print \"linear %s score: %f, std: %f\" % (clf.__class__.__name__, np.mean(scores), np.std(scores))"
   ]
  },
  {
   "cell_type": "code",
   "execution_count": 5,
   "metadata": {},
   "outputs": [
    {
     "name": "stdout",
     "output_type": "stream",
     "text": [
      "LinearSVC OVR Score: 0.868753, std: 0.012212\n"
     ]
    }
   ],
   "source": [
    "clf = LinearSVC(multi_class='ovr')\n",
    "scores = cross_val_score(clf, features, target, cv=15)\n",
    "print \"%s OVR Score: %f, std: %f\" % (clf.__class__.__name__,np.mean(scores), np.std(scores))"
   ]
  },
  {
   "cell_type": "code",
   "execution_count": 6,
   "metadata": {},
   "outputs": [
    {
     "name": "stdout",
     "output_type": "stream",
     "text": [
      "LinearSVC crammer_singer Score: 0.870310, std: 0.012343\n"
     ]
    }
   ],
   "source": [
    "clf = LinearSVC(multi_class='crammer_singer')\n",
    "scores = cross_val_score(clf, features, target, cv=15)\n",
    "print \"%s crammer_singer Score: %f, std: %f\" % (clf.__class__.__name__, np.mean(scores), np.std(scores))"
   ]
  },
  {
   "cell_type": "code",
   "execution_count": 7,
   "metadata": {},
   "outputs": [
    {
     "name": "stdout",
     "output_type": "stream",
     "text": [
      "OneVsOneClassifier Score: 0.905737, std: 0.014711\n"
     ]
    }
   ],
   "source": [
    "clf = OneVsOneClassifier(LinearSVC())\n",
    "scores = cross_val_score(clf, features, target, cv=15)\n",
    "print \"%s Score: %f, std: %f\" % (clf.__class__.__name__, np.mean(scores), np.std(scores))"
   ]
  },
  {
   "cell_type": "code",
   "execution_count": 8,
   "metadata": {},
   "outputs": [
    {
     "name": "stdout",
     "output_type": "stream",
     "text": [
      "GaussianNB Score: 0.863502\n"
     ]
    }
   ],
   "source": [
    "clf = GaussianNB()\n",
    "scores = cross_val_score(clf, features, target, cv=15)\n",
    "print \"%s Score: %f\" % (clf.__class__.__name__, np.mean(scores))"
   ]
  },
  {
   "cell_type": "code",
   "execution_count": 9,
   "metadata": {},
   "outputs": [
    {
     "name": "stdout",
     "output_type": "stream",
     "text": [
      "minimum splitter = 2, score = 0.931029\n",
      "minimum splitter = 3, score = 0.931037\n",
      "minimum splitter = 4, score = 0.929864\n",
      "minimum splitter = 5, score = 0.931403\n",
      "minimum splitter = 6, score = 0.932374\n",
      "minimum splitter = 7, score = 0.933361\n",
      "minimum splitter = 8, score = 0.933549\n",
      "minimum splitter = 9, score = 0.933537\n",
      "minimum splitter = 10, score = 0.932958\n",
      "minimum splitter = 11, score = 0.932960\n",
      "minimum splitter = 12, score = 0.933149\n",
      "minimum splitter = 13, score = 0.933525\n",
      "minimum splitter = 14, score = 0.933131\n",
      "minimum splitter = 15, score = 0.933141\n",
      "minimum splitter = 16, score = 0.931596\n",
      "minimum splitter = 17, score = 0.931994\n",
      "minimum splitter = 18, score = 0.933155\n",
      "minimum splitter = 19, score = 0.931619\n",
      "Best Splitter size: 8\n",
      "DecisionTreeClassifier with best splitter: 0.933549\n",
      "DecisionTreeClassifier Default score: 0.931029\n"
     ]
    }
   ],
   "source": [
    "all_scores = []\n",
    "for splitter in range(2,20):\n",
    "    clf = DecisionTreeClassifier(min_samples_split=splitter, random_state=0)\n",
    "    scores = cross_val_score(clf, features, target, cv=15)\n",
    "    score = np.mean(scores)\n",
    "    all_scores.append(score)\n",
    "    print \"minimum splitter = %d, score = %f\" % (splitter, score)\n",
    "print \"Best Splitter size: %d\" % (np.argmax(all_scores) + 2)\n",
    "print \"%s with best splitter: %f\" % (clf.__class__.__name__, all_scores[np.argmax(all_scores)])\n",
    "\n",
    "clf = DecisionTreeClassifier(random_state=0)\n",
    "scores = cross_val_score(clf, features, target, cv=15)\n",
    "score = np.mean(scores)\n",
    "print \"%s Default score: %f\"% (clf.__class__.__name__, score)"
   ]
  },
  {
   "cell_type": "code",
   "execution_count": 10,
   "metadata": {},
   "outputs": [
    {
     "name": "stdout",
     "output_type": "stream",
     "text": [
      "minimum splitter = 2, score = 0.949628\n",
      "minimum splitter = 3, score = 0.950242\n",
      "minimum splitter = 4, score = 0.951995\n",
      "minimum splitter = 5, score = 0.949627\n",
      "minimum splitter = 6, score = 0.949261\n",
      "minimum splitter = 7, score = 0.949468\n",
      "minimum splitter = 8, score = 0.949853\n",
      "minimum splitter = 9, score = 0.947952\n",
      "minimum splitter = 10, score = 0.948108\n",
      "minimum splitter = 11, score = 0.950255\n",
      "minimum splitter = 12, score = 0.946556\n",
      "minimum splitter = 13, score = 0.946952\n",
      "minimum splitter = 14, score = 0.944035\n",
      "minimum splitter = 15, score = 0.946767\n",
      "minimum splitter = 16, score = 0.946762\n",
      "minimum splitter = 17, score = 0.948711\n",
      "minimum splitter = 18, score = 0.947346\n",
      "minimum splitter = 19, score = 0.947522\n",
      "Best Splitter size: 4\n",
      "RandomForestClassifier with best splitter: 0.951995\n",
      "RandomForestClassifier Default score: 0.949628\n"
     ]
    }
   ],
   "source": [
    "all_scores = []\n",
    "for splitter in range(2,20):\n",
    "    clf = RandomForestClassifier(min_samples_split=splitter, random_state=0)\n",
    "    scores = cross_val_score(clf, features, target, cv=15)\n",
    "    score = np.mean(scores)\n",
    "    all_scores.append(score)\n",
    "    print \"minimum splitter = %d, score = %f\" % (splitter, score)\n",
    "print \"Best Splitter size: %d\" % (np.argmax(all_scores) + 2)\n",
    "print \"%s with best splitter: %f\" % (clf.__class__.__name__, all_scores[np.argmax(all_scores)])\n",
    "\n",
    "clf = RandomForestClassifier(random_state=0)\n",
    "scores = cross_val_score(clf, features, target, cv=15)\n",
    "score = np.mean(scores)\n",
    "print \"%s Default score: %f\"% (clf.__class__.__name__, score)"
   ]
  },
  {
   "cell_type": "code",
   "execution_count": 11,
   "metadata": {},
   "outputs": [
    {
     "name": "stdout",
     "output_type": "stream",
     "text": [
      "minimum k_neighbors = 2, score = 0.902213\n",
      "minimum k_neighbors = 3, score = 0.918114\n",
      "minimum k_neighbors = 4, score = 0.907826\n",
      "minimum k_neighbors = 5, score = 0.916752\n",
      "minimum k_neighbors = 6, score = 0.913081\n",
      "minimum k_neighbors = 7, score = 0.912299\n",
      "minimum k_neighbors = 8, score = 0.909593\n",
      "minimum k_neighbors = 9, score = 0.910556\n",
      "minimum k_neighbors = 10, score = 0.908232\n",
      "minimum k_neighbors = 11, score = 0.906881\n",
      "minimum k_neighbors = 12, score = 0.905926\n",
      "minimum k_neighbors = 13, score = 0.903800\n",
      "minimum k_neighbors = 14, score = 0.901478\n",
      "minimum k_neighbors = 15, score = 0.900868\n",
      "minimum k_neighbors = 16, score = 0.896038\n",
      "minimum k_neighbors = 17, score = 0.896219\n",
      "minimum k_neighbors = 18, score = 0.893895\n",
      "minimum k_neighbors = 19, score = 0.890801\n",
      "Best n_neighbors size: 3\n",
      "KNeighborsClassifier with best N param: 0.918114\n"
     ]
    }
   ],
   "source": [
    "all_scores = []\n",
    "for n in range(2,20):\n",
    "    clf = KNeighborsClassifier(n_neighbors=n)\n",
    "    scores = cross_val_score(clf, features, target, cv=15)\n",
    "    score = np.mean(scores)\n",
    "    all_scores.append(score)\n",
    "    print \"minimum k_neighbors = %d, score = %f\" % (n, score)\n",
    "print \"Best n_neighbors size: %d\" % (np.argmax(all_scores) + 2)\n",
    "print \"KNeighborsClassifier with best N param: %f\" % (all_scores[np.argmax(all_scores)])"
   ]
  },
  {
   "cell_type": "code",
   "execution_count": 12,
   "metadata": {},
   "outputs": [
    {
     "name": "stdout",
     "output_type": "stream",
     "text": [
      "Perceptron Score: 0.812833, std: 0.049600\n"
     ]
    }
   ],
   "source": [
    "clf = Perceptron(max_iter=300)\n",
    "scores = cross_val_score(clf, features, target, cv=10)\n",
    "print \"%s Score: %f, std: %f\" % (clf.__class__.__name__, np.mean(scores), np.std(scores))"
   ]
  },
  {
   "cell_type": "code",
   "execution_count": 13,
   "metadata": {},
   "outputs": [
    {
     "name": "stdout",
     "output_type": "stream",
     "text": [
      "LinearDiscriminantAnalysis Score: 0.783866, std: 0.015864\n"
     ]
    },
    {
     "name": "stderr",
     "output_type": "stream",
     "text": [
      "/Users/boris/.pyenv/versions/anaconda2-5.0.0/lib/python2.7/site-packages/sklearn/discriminant_analysis.py:388: UserWarning: Variables are collinear.\n",
      "  warnings.warn(\"Variables are collinear.\")\n"
     ]
    }
   ],
   "source": [
    "clf = LinearDiscriminantAnalysis()\n",
    "scores = cross_val_score(clf, features, target, cv=10)\n",
    "print \"%s Score: %f, std: %f\" % (clf.__class__.__name__, np.mean(scores), np.std(scores))"
   ]
  },
  {
   "cell_type": "code",
   "execution_count": 14,
   "metadata": {},
   "outputs": [
    {
     "name": "stdout",
     "output_type": "stream",
     "text": [
      "RandomForestClassifier Score: 0.947530, std: 0.008705\n"
     ]
    }
   ],
   "source": [
    "clf = RandomForestClassifier(random_state=0)\n",
    "scores = cross_val_score(clf, features, target, cv=10)\n",
    "print \"%s Score: %f, std: %f\" % (clf.__class__.__name__, np.mean(scores), np.std(scores))"
   ]
  },
  {
   "cell_type": "code",
   "execution_count": 15,
   "metadata": {},
   "outputs": [
    {
     "name": "stderr",
     "output_type": "stream",
     "text": [
      "/Users/boris/.pyenv/versions/anaconda2-5.0.0/lib/python2.7/site-packages/sklearn/neural_network/multilayer_perceptron.py:564: ConvergenceWarning: Stochastic Optimizer: Maximum iterations (500) reached and the optimization hasn't converged yet.\n",
      "  % self.max_iter, ConvergenceWarning)\n"
     ]
    },
    {
     "name": "stdout",
     "output_type": "stream",
     "text": [
      "MLPClassifier Score: 0.695938, std: 0.102876\n"
     ]
    }
   ],
   "source": [
    "clf = MLPClassifier(verbose=0, activation='relu', hidden_layer_sizes=(50, 25, 10), \n",
    "                  random_state=0, max_iter=500, solver='sgd', \n",
    "                  learning_rate='invscaling', momentum=.9,\n",
    "                  nesterovs_momentum=True, learning_rate_init=0.2)\n",
    "scores = cross_val_score(clf, features, target, cv=10)\n",
    "print \"MLPClassifier Score: %f, std: %f\" % (np.mean(scores), np.std(scores))"
   ]
  },
  {
   "cell_type": "code",
   "execution_count": 16,
   "metadata": {},
   "outputs": [
    {
     "name": "stderr",
     "output_type": "stream",
     "text": [
      "/Users/boris/.pyenv/versions/anaconda2-5.0.0/lib/python2.7/site-packages/sklearn/model_selection/_split.py:597: Warning: The least populated class in y has only 28 members, which is too few. The minimum number of members in any class cannot be less than n_splits=30.\n",
      "  % (min_groups, self.n_splits)), Warning)\n"
     ]
    },
    {
     "name": "stdout",
     "output_type": "stream",
     "text": [
      "***** DecisionTreeClassifier *****\n",
      "             precision    recall  f1-score   support\n",
      "\n",
      "      Blues    0.46875   0.53571   0.50000        28\n",
      "     Browns    0.90331   0.93340   0.91811      1081\n",
      "     Greens    0.99473   0.99160   0.99316       952\n",
      "      Greys    0.96970   0.96096   0.96531       333\n",
      "    Oranges    0.89969   0.90252   0.90110       318\n",
      "      Pinks    0.85972   0.85458   0.85714       502\n",
      "    Purples    0.95703   0.94904   0.95302      1197\n",
      "       Reds    0.93103   0.93987   0.93543       316\n",
      "     Whites    0.78107   0.69841   0.73743       189\n",
      "    Yellows    0.95473   0.93548   0.94501       248\n",
      "\n",
      "avg / total    0.92977   0.92971   0.92958      5164\n",
      "\n"
     ]
    }
   ],
   "source": [
    "clf = DecisionTreeClassifier(min_samples_split=8, random_state=0)\n",
    "pred = cross_val_predict(clf, features, target, cv=30)\n",
    "print \"***** %s *****\" % clf.__class__.__name__\n",
    "print classification_report(target, pred, target_names=labels, digits=5)"
   ]
  },
  {
   "cell_type": "code",
   "execution_count": 17,
   "metadata": {},
   "outputs": [
    {
     "name": "stdout",
     "output_type": "stream",
     "text": [
      "***** KNeighborsClassifier *****\n",
      "             precision    recall  f1-score   support\n",
      "\n",
      "      Blues    0.26087   0.21429   0.23529        28\n",
      "     Browns    0.88003   0.97040   0.92301      1081\n",
      "     Greens    0.99260   0.98634   0.98946       952\n",
      "      Greys    0.85373   0.85886   0.85629       333\n",
      "    Oranges    0.85507   0.74214   0.79461       318\n",
      "      Pinks    0.95561   0.81474   0.87957       502\n",
      "    Purples    0.96787   0.98162   0.97470      1197\n",
      "       Reds    0.82303   0.92722   0.87202       316\n",
      "     Whites    0.90780   0.67725   0.77576       189\n",
      "    Yellows    0.91304   0.93145   0.92216       248\n",
      "\n",
      "avg / total    0.92102   0.92022   0.91853      5164\n",
      "\n"
     ]
    }
   ],
   "source": [
    "clf = KNeighborsClassifier(n_neighbors=3)\n",
    "pred = cross_val_predict(clf, features, target, cv=30)\n",
    "print \"***** %s *****\" % clf.__class__.__name__\n",
    "print classification_report(target, pred, target_names=labels, digits=5)"
   ]
  },
  {
   "cell_type": "code",
   "execution_count": 18,
   "metadata": {},
   "outputs": [
    {
     "name": "stdout",
     "output_type": "stream",
     "text": [
      "***** RandomForestClassifier *****\n",
      "             precision    recall  f1-score   support\n",
      "\n",
      "      Blues    0.86667   0.46429   0.60465        28\n",
      "     Browns    0.90378   0.97317   0.93719      1081\n",
      "     Greens    0.99579   0.99475   0.99527       952\n",
      "      Greys    0.96429   0.97297   0.96861       333\n",
      "    Oranges    0.94481   0.91509   0.92971       318\n",
      "      Pinks    0.94889   0.85060   0.89706       502\n",
      "    Purples    0.97828   0.97828   0.97828      1197\n",
      "       Reds    0.94753   0.97152   0.95938       316\n",
      "     Whites    0.89809   0.74603   0.81503       189\n",
      "    Yellows    0.93893   0.99194   0.96471       248\n",
      "\n",
      "avg / total    0.95278   0.95256   0.95149      5164\n",
      "\n"
     ]
    }
   ],
   "source": [
    "clf = RandomForestClassifier(min_samples_split=4, random_state=0)\n",
    "pred = cross_val_predict(clf, features, target, cv=30)\n",
    "print \"***** %s *****\" % clf.__class__.__name__\n",
    "print classification_report(target, pred, target_names=labels, digits=5)"
   ]
  },
  {
   "cell_type": "code",
   "execution_count": 19,
   "metadata": {},
   "outputs": [
    {
     "name": "stdout",
     "output_type": "stream",
     "text": [
      "Estimating DecisionTreeClassifier\n",
      "training score, mean: 0.927192\n"
     ]
    }
   ],
   "source": [
    "print \"Estimating DecisionTreeClassifier\"\n",
    "k_fold = RepeatedStratifiedKFold(n_splits=10)\n",
    "clf_tree = DecisionTreeClassifier(min_samples_split=8)\n",
    "a = []\n",
    "for train_indices, test_indices in k_fold.split(features, target):\n",
    "    clf_tree.fit(features[train_indices], target[train_indices])\n",
    "    a.append(clf_tree.score(features[test_indices],target[test_indices]))\n",
    "    \n",
    "print \"training score, mean: %f\"% (np.array(a).mean())"
   ]
  },
  {
   "cell_type": "code",
   "execution_count": 20,
   "metadata": {},
   "outputs": [
    {
     "name": "stdout",
     "output_type": "stream",
     "text": [
      "Estimating KNeighborsClassifier\n",
      "training score, mean: 0.916012\n"
     ]
    }
   ],
   "source": [
    "print \"Estimating KNeighborsClassifier\"\n",
    "k_fold = RepeatedStratifiedKFold(n_splits=10)\n",
    "clf_knn = KNeighborsClassifier(n_neighbors=5)\n",
    "a = []\n",
    "for train_indices, test_indices in k_fold.split(features, target):\n",
    "    clf_knn.fit(features[train_indices], target[train_indices])\n",
    "    a.append(clf_knn.score(features[test_indices],target[test_indices]))\n",
    "    \n",
    "print \"training score, mean: %f\"% (np.array(a).mean())"
   ]
  },
  {
   "cell_type": "code",
   "execution_count": 21,
   "metadata": {},
   "outputs": [
    {
     "name": "stdout",
     "output_type": "stream",
     "text": [
      "Estimating RandomForestClassifier\n",
      "training score, mean: 0.945433\n"
     ]
    }
   ],
   "source": [
    "print \"Estimating RandomForestClassifier\"\n",
    "k_fold = RepeatedStratifiedKFold(n_splits=5, random_state=0)\n",
    "clf_random_forest = RandomForestClassifier(min_samples_split=4, max_features=None, random_state=0)\n",
    "a = []\n",
    "for train_indices, test_indices in k_fold.split(features, target):\n",
    "    clf_random_forest.fit(features[train_indices], target[train_indices])\n",
    "    a.append(clf_random_forest.score(features[test_indices],target[test_indices]))\n",
    "    \n",
    "print \"training score, mean: %f\"% (np.array(a).mean())"
   ]
  },
  {
   "cell_type": "code",
   "execution_count": 22,
   "metadata": {
    "collapsed": true
   },
   "outputs": [],
   "source": [
    "features_test = df_test_X\n",
    "target_test = df_test_Y"
   ]
  },
  {
   "cell_type": "code",
   "execution_count": 31,
   "metadata": {},
   "outputs": [
    {
     "data": {
      "text/html": [
       "<div>\n",
       "<style>\n",
       "    .dataframe thead tr:only-child th {\n",
       "        text-align: right;\n",
       "    }\n",
       "\n",
       "    .dataframe thead th {\n",
       "        text-align: left;\n",
       "    }\n",
       "\n",
       "    .dataframe tbody tr th {\n",
       "        vertical-align: top;\n",
       "    }\n",
       "</style>\n",
       "<table border=\"1\" class=\"dataframe\">\n",
       "  <thead>\n",
       "    <tr style=\"text-align: right;\">\n",
       "      <th></th>\n",
       "      <th>Is_Most_Important_Issue_Other</th>\n",
       "      <th>Is_Most_Important_Issue_Financial</th>\n",
       "      <th>Yearly_IncomeK</th>\n",
       "      <th>Number_of_valued_Kneset_members</th>\n",
       "      <th>Is_Most_Important_Issue_Environment</th>\n",
       "      <th>Is_Most_Important_Issue_Military</th>\n",
       "      <th>Avg_Satisfaction_with_previous_vote</th>\n",
       "      <th>Will_vote_only_large_party</th>\n",
       "      <th>Avg_monthly_expense_when_under_age_21</th>\n",
       "      <th>Garden_sqr_meter_per_person_in_residancy_area</th>\n",
       "      <th>Overall_happiness_score</th>\n",
       "      <th>Is_Most_Important_Issue_Education</th>\n",
       "      <th>Is_Most_Important_Issue_Social</th>\n",
       "      <th>Is_Most_Important_Issue_Foreign_Affairs</th>\n",
       "    </tr>\n",
       "  </thead>\n",
       "  <tbody>\n",
       "    <tr>\n",
       "      <th>count</th>\n",
       "      <td>1706.000000</td>\n",
       "      <td>1706.000000</td>\n",
       "      <td>1706.000000</td>\n",
       "      <td>1706.000000</td>\n",
       "      <td>1706.000000</td>\n",
       "      <td>1706.000000</td>\n",
       "      <td>1706.000000</td>\n",
       "      <td>1706.000000</td>\n",
       "      <td>1706.000000</td>\n",
       "      <td>1706.000000</td>\n",
       "      <td>1706.000000</td>\n",
       "      <td>1706.000000</td>\n",
       "      <td>1706.000000</td>\n",
       "      <td>1706.000000</td>\n",
       "    </tr>\n",
       "    <tr>\n",
       "      <th>mean</th>\n",
       "      <td>0.063892</td>\n",
       "      <td>0.189332</td>\n",
       "      <td>0.538825</td>\n",
       "      <td>0.434616</td>\n",
       "      <td>0.158851</td>\n",
       "      <td>0.062134</td>\n",
       "      <td>0.398813</td>\n",
       "      <td>-0.726260</td>\n",
       "      <td>0.398819</td>\n",
       "      <td>0.466526</td>\n",
       "      <td>0.620756</td>\n",
       "      <td>0.162954</td>\n",
       "      <td>0.146542</td>\n",
       "      <td>0.058617</td>\n",
       "    </tr>\n",
       "    <tr>\n",
       "      <th>std</th>\n",
       "      <td>0.244632</td>\n",
       "      <td>0.391887</td>\n",
       "      <td>0.094215</td>\n",
       "      <td>0.246032</td>\n",
       "      <td>0.365644</td>\n",
       "      <td>0.241469</td>\n",
       "      <td>0.088379</td>\n",
       "      <td>0.536724</td>\n",
       "      <td>0.088383</td>\n",
       "      <td>0.127887</td>\n",
       "      <td>0.110341</td>\n",
       "      <td>0.369432</td>\n",
       "      <td>0.353752</td>\n",
       "      <td>0.234975</td>\n",
       "    </tr>\n",
       "    <tr>\n",
       "      <th>min</th>\n",
       "      <td>0.000000</td>\n",
       "      <td>0.000000</td>\n",
       "      <td>0.303086</td>\n",
       "      <td>0.000000</td>\n",
       "      <td>0.000000</td>\n",
       "      <td>0.000000</td>\n",
       "      <td>0.105105</td>\n",
       "      <td>-1.000000</td>\n",
       "      <td>0.105105</td>\n",
       "      <td>0.107365</td>\n",
       "      <td>0.325936</td>\n",
       "      <td>0.000000</td>\n",
       "      <td>0.000000</td>\n",
       "      <td>0.000000</td>\n",
       "    </tr>\n",
       "    <tr>\n",
       "      <th>25%</th>\n",
       "      <td>0.000000</td>\n",
       "      <td>0.000000</td>\n",
       "      <td>0.469703</td>\n",
       "      <td>0.272727</td>\n",
       "      <td>0.000000</td>\n",
       "      <td>0.000000</td>\n",
       "      <td>0.330104</td>\n",
       "      <td>-1.000000</td>\n",
       "      <td>0.330104</td>\n",
       "      <td>0.363117</td>\n",
       "      <td>0.537594</td>\n",
       "      <td>0.000000</td>\n",
       "      <td>0.000000</td>\n",
       "      <td>0.000000</td>\n",
       "    </tr>\n",
       "    <tr>\n",
       "      <th>50%</th>\n",
       "      <td>0.000000</td>\n",
       "      <td>0.000000</td>\n",
       "      <td>0.526256</td>\n",
       "      <td>0.454545</td>\n",
       "      <td>0.000000</td>\n",
       "      <td>0.000000</td>\n",
       "      <td>0.381287</td>\n",
       "      <td>-1.000000</td>\n",
       "      <td>0.381287</td>\n",
       "      <td>0.454622</td>\n",
       "      <td>0.599437</td>\n",
       "      <td>0.000000</td>\n",
       "      <td>0.000000</td>\n",
       "      <td>0.000000</td>\n",
       "    </tr>\n",
       "    <tr>\n",
       "      <th>75%</th>\n",
       "      <td>0.000000</td>\n",
       "      <td>0.000000</td>\n",
       "      <td>0.597343</td>\n",
       "      <td>0.636364</td>\n",
       "      <td>0.000000</td>\n",
       "      <td>0.000000</td>\n",
       "      <td>0.457536</td>\n",
       "      <td>-1.000000</td>\n",
       "      <td>0.457536</td>\n",
       "      <td>0.546125</td>\n",
       "      <td>0.690365</td>\n",
       "      <td>0.000000</td>\n",
       "      <td>0.000000</td>\n",
       "      <td>0.000000</td>\n",
       "    </tr>\n",
       "    <tr>\n",
       "      <th>max</th>\n",
       "      <td>1.000000</td>\n",
       "      <td>1.000000</td>\n",
       "      <td>0.855940</td>\n",
       "      <td>1.000000</td>\n",
       "      <td>1.000000</td>\n",
       "      <td>1.000000</td>\n",
       "      <td>0.633064</td>\n",
       "      <td>1.000000</td>\n",
       "      <td>0.633064</td>\n",
       "      <td>0.829079</td>\n",
       "      <td>0.912641</td>\n",
       "      <td>1.000000</td>\n",
       "      <td>1.000000</td>\n",
       "      <td>1.000000</td>\n",
       "    </tr>\n",
       "  </tbody>\n",
       "</table>\n",
       "</div>"
      ],
      "text/plain": [
       "       Is_Most_Important_Issue_Other  Is_Most_Important_Issue_Financial  \\\n",
       "count                    1706.000000                        1706.000000   \n",
       "mean                        0.063892                           0.189332   \n",
       "std                         0.244632                           0.391887   \n",
       "min                         0.000000                           0.000000   \n",
       "25%                         0.000000                           0.000000   \n",
       "50%                         0.000000                           0.000000   \n",
       "75%                         0.000000                           0.000000   \n",
       "max                         1.000000                           1.000000   \n",
       "\n",
       "       Yearly_IncomeK  Number_of_valued_Kneset_members  \\\n",
       "count     1706.000000                      1706.000000   \n",
       "mean         0.538825                         0.434616   \n",
       "std          0.094215                         0.246032   \n",
       "min          0.303086                         0.000000   \n",
       "25%          0.469703                         0.272727   \n",
       "50%          0.526256                         0.454545   \n",
       "75%          0.597343                         0.636364   \n",
       "max          0.855940                         1.000000   \n",
       "\n",
       "       Is_Most_Important_Issue_Environment  Is_Most_Important_Issue_Military  \\\n",
       "count                          1706.000000                       1706.000000   \n",
       "mean                              0.158851                          0.062134   \n",
       "std                               0.365644                          0.241469   \n",
       "min                               0.000000                          0.000000   \n",
       "25%                               0.000000                          0.000000   \n",
       "50%                               0.000000                          0.000000   \n",
       "75%                               0.000000                          0.000000   \n",
       "max                               1.000000                          1.000000   \n",
       "\n",
       "       Avg_Satisfaction_with_previous_vote  Will_vote_only_large_party  \\\n",
       "count                          1706.000000                 1706.000000   \n",
       "mean                              0.398813                   -0.726260   \n",
       "std                               0.088379                    0.536724   \n",
       "min                               0.105105                   -1.000000   \n",
       "25%                               0.330104                   -1.000000   \n",
       "50%                               0.381287                   -1.000000   \n",
       "75%                               0.457536                   -1.000000   \n",
       "max                               0.633064                    1.000000   \n",
       "\n",
       "       Avg_monthly_expense_when_under_age_21  \\\n",
       "count                            1706.000000   \n",
       "mean                                0.398819   \n",
       "std                                 0.088383   \n",
       "min                                 0.105105   \n",
       "25%                                 0.330104   \n",
       "50%                                 0.381287   \n",
       "75%                                 0.457536   \n",
       "max                                 0.633064   \n",
       "\n",
       "       Garden_sqr_meter_per_person_in_residancy_area  Overall_happiness_score  \\\n",
       "count                                    1706.000000              1706.000000   \n",
       "mean                                        0.466526                 0.620756   \n",
       "std                                         0.127887                 0.110341   \n",
       "min                                         0.107365                 0.325936   \n",
       "25%                                         0.363117                 0.537594   \n",
       "50%                                         0.454622                 0.599437   \n",
       "75%                                         0.546125                 0.690365   \n",
       "max                                         0.829079                 0.912641   \n",
       "\n",
       "       Is_Most_Important_Issue_Education  Is_Most_Important_Issue_Social  \\\n",
       "count                        1706.000000                     1706.000000   \n",
       "mean                            0.162954                        0.146542   \n",
       "std                             0.369432                        0.353752   \n",
       "min                             0.000000                        0.000000   \n",
       "25%                             0.000000                        0.000000   \n",
       "50%                             0.000000                        0.000000   \n",
       "75%                             0.000000                        0.000000   \n",
       "max                             1.000000                        1.000000   \n",
       "\n",
       "       Is_Most_Important_Issue_Foreign_Affairs  \n",
       "count                              1706.000000  \n",
       "mean                                  0.058617  \n",
       "std                                   0.234975  \n",
       "min                                   0.000000  \n",
       "25%                                   0.000000  \n",
       "50%                                   0.000000  \n",
       "75%                                   0.000000  \n",
       "max                                   1.000000  "
      ]
     },
     "execution_count": 31,
     "metadata": {},
     "output_type": "execute_result"
    }
   ],
   "source": [
    "features_test.describe()"
   ]
  },
  {
   "cell_type": "code",
   "execution_count": 23,
   "metadata": {},
   "outputs": [
    {
     "data": {
      "text/plain": [
       "RandomForestClassifier(bootstrap=True, class_weight=None, criterion='gini',\n",
       "            max_depth=None, max_features='auto', max_leaf_nodes=None,\n",
       "            min_impurity_decrease=0.0, min_impurity_split=None,\n",
       "            min_samples_leaf=1, min_samples_split=4,\n",
       "            min_weight_fraction_leaf=0.0, n_estimators=10, n_jobs=1,\n",
       "            oob_score=False, random_state=0, verbose=0, warm_start=False)"
      ]
     },
     "execution_count": 23,
     "metadata": {},
     "output_type": "execute_result"
    }
   ],
   "source": [
    "clf = RandomForestClassifier(min_samples_split=4, random_state=0)\n",
    "clf.fit(features, target)\n",
    "\n",
    "# clf = KNeighborsClassifier(n_neighbors=3)\n",
    "# clf.fit(features, target)\n",
    "\n",
    "# clf = DecisionTreeClassifier(min_samples_split=8)\n",
    "# clf.fit(features, target)"
   ]
  },
  {
   "cell_type": "code",
   "execution_count": 24,
   "metadata": {},
   "outputs": [
    {
     "name": "stdout",
     "output_type": "stream",
     "text": [
      "winner is party ## Purples ##\n"
     ]
    }
   ],
   "source": [
    "pred = clf.predict(features_test)\n",
    "\n",
    "distribution = np.bincount(pred.astype('int64'))\n",
    "most_common = np.argmax(distribution)\n",
    "\n",
    "print \"winner is party ## %s ##\" % labels[most_common.astype('int')]"
   ]
  },
  {
   "cell_type": "code",
   "execution_count": 25,
   "metadata": {},
   "outputs": [
    {
     "name": "stdout",
     "output_type": "stream",
     "text": [
      "Vote distribution\n",
      "Blues, 3.000000, 0.175850%\n",
      "Browns, 399.000000, 23.388042%\n",
      "Greens, 315.000000, 18.464244%\n",
      "Greys, 102.000000, 5.978898%\n",
      "Oranges, 95.000000, 5.568581%\n",
      "Pinks, 144.000000, 8.440797%\n",
      "Purples, 410.000000, 24.032825%\n",
      "Reds, 118.000000, 6.916764%\n",
      "Whites, 47.000000, 2.754982%\n",
      "Yellows, 73.000000, 4.279015%\n"
     ]
    }
   ],
   "source": [
    "print \"Vote distribution\"\n",
    "distribution = np.bincount(pred.astype('int64'))\n",
    "\n",
    "for index,party in enumerate(distribution):\n",
    "    print \"%s, %f, %f\"%(labels[index], distribution[index], distribution[index]/ float(target_test.size) * 100) + '%'"
   ]
  },
  {
   "cell_type": "code",
   "execution_count": 26,
   "metadata": {},
   "outputs": [
    {
     "name": "stdout",
     "output_type": "stream",
     "text": [
      "             precision    recall  f1-score   support\n",
      "\n",
      "      Blues       1.00      0.50      0.67         6\n",
      "     Browns       0.89      0.97      0.93       365\n",
      "     Greens       0.99      1.00      1.00       312\n",
      "      Greys       0.93      0.92      0.93       103\n",
      "    Oranges       0.87      0.89      0.88        93\n",
      "      Pinks       0.93      0.85      0.89       158\n",
      "    Purples       0.97      0.98      0.98       406\n",
      "       Reds       0.97      0.96      0.96       119\n",
      "     Whites       0.89      0.57      0.69        74\n",
      "    Yellows       0.96      1.00      0.98        70\n",
      "\n",
      "avg / total       0.94      0.94      0.94      1706\n",
      "\n"
     ]
    }
   ],
   "source": [
    "target_test_labled = target_test.map(lambda x: labels[int(x)])\n",
    "pred_test_labled = pd.DataFrame(pred).applymap(lambda x: labels[int(x)])\n",
    "\n",
    "print(classification_report(target_test_labled, pred_test_labled, target_names=labels))"
   ]
  },
  {
   "cell_type": "code",
   "execution_count": 27,
   "metadata": {},
   "outputs": [
    {
     "name": "stdout",
     "output_type": "stream",
     "text": [
      "['Blues', 'Browns', 'Greens', 'Greys', 'Oranges', 'Pinks', 'Purples', 'Reds', 'Whites', 'Yellows']\n"
     ]
    },
    {
     "data": {
      "text/plain": [
       "array([[  3,   0,   0,   0,   0,   0,   0,   0,   0,   3],\n",
       "       [  0, 355,   0,   0,   0,   2,   3,   0,   5,   0],\n",
       "       [  0,   0, 312,   0,   0,   0,   0,   0,   0,   0],\n",
       "       [  0,   0,   0,  95,   7,   0,   0,   1,   0,   0],\n",
       "       [  0,   0,   0,   7,  83,   0,   0,   3,   0,   0],\n",
       "       [  0,  19,   0,   0,   0, 134,   5,   0,   0,   0],\n",
       "       [  0,   2,   3,   0,   0,   3, 398,   0,   0,   0],\n",
       "       [  0,   0,   0,   0,   5,   0,   0, 114,   0,   0],\n",
       "       [  0,  23,   0,   0,   0,   5,   4,   0,  42,   0],\n",
       "       [  0,   0,   0,   0,   0,   0,   0,   0,   0,  70]])"
      ]
     },
     "execution_count": 27,
     "metadata": {},
     "output_type": "execute_result"
    }
   ],
   "source": [
    "print labels\n",
    "confusion_matrix(target_test_labled, pred_test_labled, labels=labels)"
   ]
  },
  {
   "cell_type": "code",
   "execution_count": 28,
   "metadata": {},
   "outputs": [
    {
     "name": "stdout",
     "output_type": "stream",
     "text": [
      "Total Wrong predictions 100 out of 1706, hit rate: 94.138335%\n"
     ]
    }
   ],
   "source": [
    "pred1 = pred_test_labled.values   \n",
    "target1 = pd.DataFrame(target_test_labled).values\n",
    "\n",
    "miss_vals = []\n",
    "real_vals = []\n",
    "toples = []\n",
    "\n",
    "miss_count = 0\n",
    "for i, j in enumerate(pred1):\n",
    "    if pred1[i] != target1[i]:\n",
    "        miss_vals.append(pred1[i][0])\n",
    "        real_vals.append(target1[i][0])\n",
    "        toples.append((pred1[i][0],target1[i][0]))\n",
    "        miss_count = miss_count + 1\n",
    "\n",
    "\n",
    "print \"Total Wrong predictions %d out of %d, hit rate: %f\"% (miss_count, target1.size, 100 - miss_count/float(target1.size) * 100) + '%'"
   ]
  },
  {
   "cell_type": "code",
   "execution_count": 29,
   "metadata": {
    "collapsed": true
   },
   "outputs": [],
   "source": [
    "pred_test_labled.to_csv(\"./data/output/test_predictions.csv\",header=['Vote'] ,index=False)"
   ]
  },
  {
   "cell_type": "code",
   "execution_count": null,
   "metadata": {
    "collapsed": true
   },
   "outputs": [],
   "source": []
  }
 ],
 "metadata": {
  "kernelspec": {
   "display_name": "Python 2",
   "language": "python",
   "name": "python2"
  },
  "language_info": {
   "codemirror_mode": {
    "name": "ipython",
    "version": 2
   },
   "file_extension": ".py",
   "mimetype": "text/x-python",
   "name": "python",
   "nbconvert_exporter": "python",
   "pygments_lexer": "ipython2",
   "version": "2.7.13"
  }
 },
 "nbformat": 4,
 "nbformat_minor": 1
}
