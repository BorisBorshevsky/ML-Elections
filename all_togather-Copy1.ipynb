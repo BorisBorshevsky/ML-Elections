{
 "cells": [
  {
   "cell_type": "markdown",
   "metadata": {},
   "source": [
    "# Putting it all togather"
   ]
  },
  {
   "cell_type": "code",
   "execution_count": 148,
   "metadata": {},
   "outputs": [],
   "source": [
    "import math\n",
    "import numpy as np\n",
    "import pandas as pd\n",
    "import matplotlib.pyplot as plt\n",
    "\n",
    "from collections import Counter\n",
    "from itertools import combinations\n",
    "\n",
    "from sklearn.cross_validation import KFold\n",
    "\n",
    "from sklearn import metrics\n",
    "from sklearn.linear_model import Ridge\n",
    "from sklearn.pipeline import make_pipeline\n",
    "from sklearn.preprocessing import PolynomialFeatures, scale, FunctionTransformer\n",
    "from sklearn.model_selection import train_test_split\n",
    "from sklearn.metrics import confusion_matrix\n",
    "from sklearn.ensemble import RandomForestRegressor\n",
    "from sklearn.model_selection import cross_val_score\n",
    "\n",
    "from sklearn.naive_bayes import MultinomialNB, BernoulliNB, GaussianNB\n",
    "from sklearn.mixture import GaussianMixture, BayesianGaussianMixture\n",
    "from sklearn.ensemble import RandomForestClassifier\n",
    "\n",
    "pd.options.mode.chained_assignment = None\n"
   ]
  },
  {
   "cell_type": "code",
   "execution_count": 149,
   "metadata": {},
   "outputs": [
    {
     "name": "stdout",
     "output_type": "stream",
     "text": [
      "<class 'pandas.core.frame.DataFrame'>\n",
      "RangeIndex: 10000 entries, 0 to 9999\n",
      "Data columns (total 39 columns):\n",
      "Vote                                             10000 non-null object\n",
      "Occupation_Satisfaction                          9809 non-null float64\n",
      "Avg_monthly_expense_when_under_age_21            9809 non-null float64\n",
      "AVG_lottary_expanses                             9818 non-null float64\n",
      "Most_Important_Issue                             9909 non-null object\n",
      "Avg_Satisfaction_with_previous_vote              9829 non-null float64\n",
      "Looking_at_poles_results                         9909 non-null object\n",
      "Garden_sqr_meter_per_person_in_residancy_area    9794 non-null float64\n",
      "Married                                          9929 non-null object\n",
      "Gender                                           9928 non-null object\n",
      "Voting_Time                                      9903 non-null object\n",
      "Financial_balance_score_(0-1)                    9810 non-null float64\n",
      "%Of_Household_Income                             9813 non-null float64\n",
      "Avg_government_satisfaction                      9806 non-null float64\n",
      "Avg_education_importance                         9823 non-null float64\n",
      "Avg_environmental_importance                     9783 non-null float64\n",
      "Avg_Residancy_Altitude                           9823 non-null float64\n",
      "Yearly_ExpensesK                                 9790 non-null float64\n",
      "%Time_invested_in_work                           9795 non-null float64\n",
      "Yearly_IncomeK                                   9812 non-null float64\n",
      "Avg_monthly_expense_on_pets_or_plants            9802 non-null float64\n",
      "Avg_monthly_household_cost                       9812 non-null float64\n",
      "Will_vote_only_large_party                       9938 non-null object\n",
      "Phone_minutes_10_years                           9822 non-null float64\n",
      "Avg_size_per_room                                9806 non-null float64\n",
      "Weighted_education_rank                          9797 non-null float64\n",
      "%_satisfaction_financial_policy                  9802 non-null float64\n",
      "Avg_monthly_income_all_years                     9824 non-null float64\n",
      "Last_school_grades                               9835 non-null float64\n",
      "Age_group                                        9916 non-null object\n",
      "Number_of_differnt_parties_voted_for             9835 non-null float64\n",
      "Political_interest_Total_Score                   9805 non-null float64\n",
      "Number_of_valued_Kneset_members                  9816 non-null float64\n",
      "Main_transportation                              9915 non-null object\n",
      "Occupation                                       9900 non-null object\n",
      "Overall_happiness_score                          9822 non-null float64\n",
      "Num_of_kids_born_last_10_years                   9795 non-null float64\n",
      "Financial_agenda_matters                         9907 non-null object\n",
      "split                                            10000 non-null int64\n",
      "dtypes: float64(27), int64(1), object(11)\n",
      "memory usage: 3.0+ MB\n"
     ]
    }
   ],
   "source": [
    "def import_data():\n",
    "    # For .read_csv, always use header=0 when you know row 0 is the header row\n",
    "    df = pd.read_csv(\"./data/ElectionsData-full.csv\", header=0)\n",
    "\n",
    "    df['split'] = 0\n",
    "    indices = KFold(n=len(df), n_folds=5, shuffle=True)._iter_test_indices()\n",
    "    df['split'][indices.next()] = 1\n",
    "    df['split'][indices.next()] = 2\n",
    "    raw_data = df.copy()\n",
    "\n",
    "    raw_data[raw_data['split'] == 0].drop('split', axis=1).to_csv('./data/output/raw_train.csv', index=False, sep=',')\n",
    "    raw_data[raw_data['split'] == 1].drop('split', axis=1).to_csv('./data/output/raw_test.csv', index=False, sep=',')\n",
    "    raw_data[raw_data['split'] == 2].drop('split', axis=1).to_csv('./data/output/raw_validation.csv', index=False)\n",
    "\n",
    "    return df\n",
    "\n",
    "df_old = import_data()\n",
    "df_old.info()"
   ]
  },
  {
   "cell_type": "markdown",
   "metadata": {},
   "source": [
    "# Loading the new data"
   ]
  },
  {
   "cell_type": "code",
   "execution_count": 150,
   "metadata": {},
   "outputs": [],
   "source": [
    "df_new = pd.read_csv('./data/ElectionsData_Pred_Features.csv', header=0)\n",
    "df_new['split'] = 3\n"
   ]
  },
  {
   "cell_type": "code",
   "execution_count": 151,
   "metadata": {
    "collapsed": true
   },
   "outputs": [],
   "source": [
    "train_split = 0\n",
    "test_split = 1\n",
    "validation_split = 2\n",
    "new_split = 3"
   ]
  },
  {
   "cell_type": "code",
   "execution_count": 152,
   "metadata": {
    "collapsed": true
   },
   "outputs": [],
   "source": [
    "df_new[\"%Of_Household_Income\"] = df_new[\"X.Of_Household_Income\"]\n",
    "df_new[\"%Time_invested_in_work\"] = df_new[\"X.Time_invested_in_work\"]\n",
    "df_new[\"%_satisfaction_financial_policy\"] = df_new[\"X._satisfaction_financial_policy\"]\n",
    "df_new[\"Financial_balance_score_(0-1)\"] = df_new[\"Financial_balance_score_.0.1.\"]\n",
    "\n",
    "df_new.drop(['X.Of_Household_Income', 'X.Time_invested_in_work', 'X._satisfaction_financial_policy', 'Financial_balance_score_.0.1.'],inplace=True, axis=1)"
   ]
  },
  {
   "cell_type": "code",
   "execution_count": 153,
   "metadata": {},
   "outputs": [],
   "source": [
    "df_all = df_new.append(df_old, ignore_index=True)\n",
    "\n",
    "df_Votes = df_all['Vote']\n",
    "df_Ids = df_all['IdentityCard_Num']\n",
    "df_split = df_all['split']\n",
    "\n",
    "df_all = df_all.drop(['IdentityCard_Num', 'Vote','split'], axis=1)\n"
   ]
  },
  {
   "cell_type": "code",
   "execution_count": 154,
   "metadata": {
    "collapsed": true
   },
   "outputs": [],
   "source": [
    "def group_features(_df):\n",
    "    _df = _df.dropna()\n",
    "    all_features = _df.columns\n",
    "    categorical_features = _df.select_dtypes(include=[\"object\"])\n",
    "    numeric_features = _df.select_dtypes(exclude=[\"object\"])\n",
    "\n",
    "    return [all_features, categorical_features.columns, numeric_features.columns]\n",
    "\n",
    "all_features, categorical_features, numeric_features = group_features(df_all)\n"
   ]
  },
  {
   "cell_type": "code",
   "execution_count": 155,
   "metadata": {
    "collapsed": true
   },
   "outputs": [],
   "source": [
    "def rows_with_nan(_df):\n",
    "    return Counter(_df.isnull().sum(axis=1).tolist())\n",
    "\n",
    "def plot_rows_with_nan(_df, name=\"\"):\n",
    "    counter = rows_with_nan(_df)\n",
    "    labels, histogram = zip(*counter.most_common())\n",
    "    fig1, ax1 = plt.subplots()\n",
    "    ax1.pie(histogram, labels=labels,\n",
    "            colors = ['green', 'yellowgreen', 'yellow','orange', 'red'],\n",
    "            autopct = lambda(p): '{:.0f}  ({:.2f}%)'.format(p * sum(histogram) / 100, p))\n",
    "    ax1.axis('equal')\n",
    "    plt.title(name)\n",
    "    plt.show()\n",
    "    "
   ]
  },
  {
   "cell_type": "code",
   "execution_count": 156,
   "metadata": {},
   "outputs": [
    {
     "data": {
      "image/png": "[encoded data removed]",
      "text/plain": [
       "<matplotlib.figure.Figure at 0x1a0acdf1d0>"
      ]
     },
     "metadata": {},
     "output_type": "display_data"
    }
   ],
   "source": [
    "plot_rows_with_nan(df_all, \"Null Count\")\n"
   ]
  },
  {
   "cell_type": "code",
   "execution_count": 157,
   "metadata": {},
   "outputs": [
    {
     "name": "stdout",
     "output_type": "stream",
     "text": [
      "240\n",
      "127\n"
     ]
    },
    {
     "data": {
      "image/png": "[encoded data removed]",
      "text/plain": [
       "<matplotlib.figure.Figure at 0x1a0b6cc090>"
      ]
     },
     "metadata": {},
     "output_type": "display_data"
    }
   ],
   "source": [
    "## TODO MAKE THIS WORK\n",
    "\n",
    "most_important_issue_dic = {\n",
    "    'Military' : 30.0,\n",
    "    'Healthcare' : 80.0,\n",
    "    'Environment' : 90.0,\n",
    "    'Financial' : 60.0,\n",
    "    'Education': 100.0,\n",
    "    'Foreign_Affairs': 40.0,\n",
    "    'Social':70.0,\n",
    "    'Other': 50.0\n",
    "}\n",
    "\n",
    "\n",
    "def fill_most_important_issue_and_grades2(df_all, most_important_issue_dic):\n",
    "    for k, v in most_important_issue_dic.iteritems():\n",
    "        ks = df_all[df_all['Most_Important_Issue'] == k]\n",
    "        ks['Last_school_grades'] = v\n",
    "              \n",
    "        vs = df_all[df_all['Last_school_grades'] == v]\n",
    "        vs['Most_Important_Issue'] = k\n",
    "    \n",
    "\n",
    "print len(df_all[pd.isnull(df_all['Last_school_grades'])])    \n",
    "print len(df_all[pd.isnull(df_all['Most_Important_Issue'])])    \n",
    "\n",
    "    \n",
    "fill_most_important_issue_and_grades2(df_all, most_important_issue_dic)\n",
    "plot_rows_with_nan(df_all, \"Null Count\")\n"
   ]
  },
  {
   "cell_type": "code",
   "execution_count": 158,
   "metadata": {
    "collapsed": true
   },
   "outputs": [],
   "source": [
    "def fill_numeric_features(_df, features):\n",
    "    for f in features:\n",
    "        _df[f + \"_fill\"].fillna(_df[f + \"_fill\"].median(), inplace=True)\n",
    "\n",
    "\n",
    "def fill_numeric_by_correlation(_df, factor, features):\n",
    "    cor = _df[features].dropna().corr()\n",
    "    print \"We choose \" + str(factor) + \" correlation as correlated\"\n",
    "    indices = np.where(cor > factor)\n",
    "    indices = [(cor.index[x], cor.columns[y], cor.loc[cor.index[x],cor.columns[y]]) for x, y in zip(*indices) if  x < y]\n",
    "    indices = sorted(indices, key=lambda pair: pair[2], reverse=True)\n",
    "    for pair in indices:\n",
    "        fill_f1_with_f2(_df, pair[0], pair[1], pair[2])\n",
    "\n",
    "\n",
    "def fill_f1_with_f2(_df, f1, f2, val):\n",
    "    ratio = _df[f1].mean() / _df[f2].mean()\n",
    "    print 'Filling ' + f1 + ' with ' + f2 + ' due to correlation of %f'% val\n",
    "    for index, row in _df[_df[f1 + \"_fill\"].isnull()].iterrows():\n",
    "        if ~np.isnan(_df[f2][index]):\n",
    "            _df[f1 + \"_fill\"][index] = _df[f2][index] * ratio\n",
    "    \n",
    "    ratio = _df[f2].mean() / _df[f1].mean()\n",
    "    print 'Filling ' + f2 + ' with ' + f1 + ' due to correlation %f'% val\n",
    "    for index, row in _df[_df[f2 + \"_fill\"].isnull()].iterrows():\n",
    "        if ~np.isnan(_df[f1][index]):\n",
    "            _df[f2 + \"_fill\"][index] = _df[f1][index] * ratio\n",
    "\n",
    "def remove_fill(_df, features):\n",
    "    for f in features:\n",
    "        _df[f] = _df[f + \"_fill\"]\n",
    "        del _df[f + \"_fill\"]\n",
    "\n",
    "def create_fill(_df, features):\n",
    "    for f in features:\n",
    "        _df[f + \"_fill\"] = _df[f]"
   ]
  },
  {
   "cell_type": "code",
   "execution_count": 159,
   "metadata": {},
   "outputs": [
    {
     "name": "stdout",
     "output_type": "stream",
     "text": [
      "********************************************************************************\n",
      "We choose 0.7 correlation as correlated\n",
      "Filling Avg_Satisfaction_with_previous_vote with Avg_monthly_expense_when_under_age_21 due to correlation of 1.000000\n",
      "Filling Avg_monthly_expense_when_under_age_21 with Avg_Satisfaction_with_previous_vote due to correlation 1.000000\n",
      "Filling Avg_monthly_expense_on_pets_or_plants with Garden_sqr_meter_per_person_in_residancy_area due to correlation of 0.990130\n",
      "Filling Garden_sqr_meter_per_person_in_residancy_area with Avg_monthly_expense_on_pets_or_plants due to correlation 0.990130\n",
      "Filling Avg_size_per_room with Yearly_IncomeK due to correlation of 0.977712\n",
      "Filling Yearly_IncomeK with Avg_size_per_room due to correlation 0.977712\n",
      "Filling Garden_sqr_meter_per_person_in_residancy_area with Phone_minutes_10_years due to correlation of 0.975228\n",
      "Filling Phone_minutes_10_years with Garden_sqr_meter_per_person_in_residancy_area due to correlation 0.975228\n",
      "Filling Avg_monthly_expense_on_pets_or_plants with Phone_minutes_10_years due to correlation of 0.972583\n",
      "Filling Phone_minutes_10_years with Avg_monthly_expense_on_pets_or_plants due to correlation 0.972583\n",
      "Filling Avg_monthly_household_cost with Political_interest_Total_Score due to correlation of 0.970990\n",
      "Filling Political_interest_Total_Score with Avg_monthly_household_cost due to correlation 0.970990\n",
      "Filling Avg_monthly_household_cost with Yearly_IncomeK due to correlation of 0.958560\n",
      "Filling Yearly_IncomeK with Avg_monthly_household_cost due to correlation 0.958560\n",
      "Filling Avg_monthly_household_cost with Avg_size_per_room due to correlation of 0.930724\n",
      "Filling Avg_size_per_room with Avg_monthly_household_cost due to correlation 0.930724\n",
      "Filling Avg_monthly_expense_when_under_age_21 with Avg_monthly_income_all_years due to correlation of 0.926994\n",
      "Filling Avg_monthly_income_all_years with Avg_monthly_expense_when_under_age_21 due to correlation 0.926994\n",
      "Filling Avg_Satisfaction_with_previous_vote with Avg_monthly_income_all_years due to correlation of 0.926994\n",
      "Filling Avg_monthly_income_all_years with Avg_Satisfaction_with_previous_vote due to correlation 0.926994\n",
      "Filling Political_interest_Total_Score with Yearly_IncomeK due to correlation of 0.908305\n",
      "Filling Yearly_IncomeK with Political_interest_Total_Score due to correlation 0.908305\n",
      "Filling Avg_size_per_room with Political_interest_Total_Score due to correlation of 0.889159\n",
      "Filling Political_interest_Total_Score with Avg_size_per_room due to correlation 0.889159\n",
      "Filling AVG_lottary_expanses with Avg_monthly_expense_when_under_age_21 due to correlation of 0.812881\n",
      "Filling Avg_monthly_expense_when_under_age_21 with AVG_lottary_expanses due to correlation 0.812881\n",
      "Filling AVG_lottary_expanses with Avg_Satisfaction_with_previous_vote due to correlation of 0.812881\n",
      "Filling Avg_Satisfaction_with_previous_vote with AVG_lottary_expanses due to correlation 0.812881\n",
      "Filling AVG_lottary_expanses with Avg_monthly_income_all_years due to correlation of 0.750774\n",
      "Filling Avg_monthly_income_all_years with AVG_lottary_expanses due to correlation 0.750774\n"
     ]
    },
    {
     "data": {
      "image/png": "[encoded data removed]",
      "text/plain": [
       "<matplotlib.figure.Figure at 0x1a1542b0d0>"
      ]
     },
     "metadata": {},
     "output_type": "display_data"
    }
   ],
   "source": [
    "corr_factor = 0.7\n",
    "print \"**\" * 40\n",
    "create_fill(df_all, numeric_features)\n",
    "fill_numeric_by_correlation(df_all, corr_factor, numeric_features)\n",
    "remove_fill(df_all, numeric_features)\n",
    "plot_rows_with_nan(df_all, \"Null Count\")\n"
   ]
  },
  {
   "cell_type": "code",
   "execution_count": 160,
   "metadata": {},
   "outputs": [
    {
     "name": "stdout",
     "output_type": "stream",
     "text": [
      "%Of_Household_Income\n",
      "188\n",
      "%Time_invested_in_work\n",
      "201\n",
      "%_satisfaction_financial_policy\n",
      "209\n",
      "AVG_lottary_expanses\n",
      "0\n",
      "Avg_Residancy_Altitude\n",
      "188\n",
      "Avg_Satisfaction_with_previous_vote\n",
      "0\n",
      "Avg_education_importance\n",
      "188\n",
      "Avg_environmental_importance\n",
      "224\n",
      "Avg_government_satisfaction\n",
      "211\n",
      "Avg_monthly_expense_on_pets_or_plants\n",
      "0\n",
      "Avg_monthly_expense_when_under_age_21\n",
      "0\n",
      "Avg_monthly_household_cost\n",
      "0\n",
      "Avg_monthly_income_all_years\n",
      "0\n",
      "Avg_size_per_room\n",
      "0\n",
      "Financial_balance_score_(0-1)\n",
      "199\n",
      "Garden_sqr_meter_per_person_in_residancy_area\n",
      "0\n",
      "Last_school_grades\n",
      "198\n",
      "Num_of_kids_born_last_10_years\n",
      "220\n",
      "Number_of_differnt_parties_voted_for\n",
      "183\n",
      "Number_of_valued_Kneset_members\n",
      "209\n",
      "Occupation_Satisfaction\n",
      "192\n",
      "Overall_happiness_score\n",
      "187\n",
      "Phone_minutes_10_years\n",
      "0\n",
      "Political_interest_Total_Score\n",
      "0\n",
      "Weighted_education_rank\n",
      "207\n",
      "Yearly_ExpensesK\n",
      "214\n",
      "Yearly_IncomeK\n",
      "0\n"
     ]
    },
    {
     "data": {
      "image/png": "[encoded data removed]",
      "text/plain": [
       "<matplotlib.figure.Figure at 0x1a0b4aa7d0>"
      ]
     },
     "metadata": {},
     "output_type": "display_data"
    }
   ],
   "source": [
    "def train_on_feature(df, feature):\n",
    "    train_data_X = df.drop([feature], axis=1).values\n",
    "    train_data_Y = df[feature].values\n",
    "    clf = RandomForestRegressor(n_estimators=50)\n",
    "      \n",
    "    return clf.fit(train_data_X, train_data_Y)\n",
    "\n",
    "def build_clf(df, feature):\n",
    "    df_tmp = df.copy()\n",
    "    df_tmp_noNaN = df_tmp.dropna()\n",
    "    print feature\n",
    "    print len(df_tmp[pd.isnull(df_tmp[feature])])\n",
    "    to_predict = df_tmp[pd.isnull(df_tmp[feature])].drop([feature],axis=1)\n",
    "    clf = train_on_feature(df_tmp_noNaN, feature)\n",
    "    return to_predict, clf\n",
    "\n",
    "\n",
    "def fill_numerical(_df, numeric_features):\n",
    "    results = {}\n",
    "    df_numeric= _df[numeric_features]\n",
    "    \n",
    "    indeces_with_less_than_2_nan = [df_numeric.loc[k].isnull().sum() < 2 for k in df_numeric.index.values]\n",
    "    df_for_prediction = df_numeric.loc[indeces_with_less_than_2_nan]\n",
    "    \n",
    "    for feature in numeric_features:\n",
    "        to_predict, clf = build_clf(df_for_prediction, feature) \n",
    "        if to_predict.shape[0] > 0:           \n",
    "            results[feature] = zip(to_predict.index.values, clf.predict(to_predict))\n",
    "    \n",
    "    #fill in the missing values\n",
    "    for feature, res in results.iteritems():\n",
    "        for item in res:\n",
    "            _df[feature][item[0]] = item[1]\n",
    "    return _df\n",
    "\n",
    "fill_numerical(df_all, numeric_features)\n",
    "plot_rows_with_nan(df_all, \"Null Count\")"
   ]
  },
  {
   "cell_type": "code",
   "execution_count": 161,
   "metadata": {},
   "outputs": [
    {
     "data": {
      "image/png": "[encoded data removed]",
      "text/plain": [
       "<matplotlib.figure.Figure at 0x1a14e77a10>"
      ]
     },
     "metadata": {},
     "output_type": "display_data"
    }
   ],
   "source": [
    "create_fill(df_all, numeric_features)\n",
    "fill_numeric_features(df_all, numeric_features)\n",
    "remove_fill(df_all, numeric_features)\n",
    "plot_rows_with_nan(df_all, \"Null Count\")"
   ]
  },
  {
   "cell_type": "code",
   "execution_count": 162,
   "metadata": {},
   "outputs": [
    {
     "data": {
      "image/png": "[encoded data removed]",
      "text/plain": [
       "<matplotlib.figure.Figure at 0x1a0b4b4a10>"
      ]
     },
     "metadata": {},
     "output_type": "display_data"
    }
   ],
   "source": [
    "def fill_cat_simple(df, categorical_features):\n",
    "    for f in categorical_features:\n",
    "        df[f].fillna(Counter(df[f].dropna()).most_common(1)[0][0], inplace=True)\n",
    "        \n",
    "fill_cat_simple(df_all, categorical_features)\n",
    "plot_rows_with_nan(df_all, \"Null Count\")\n"
   ]
  },
  {
   "cell_type": "code",
   "execution_count": 163,
   "metadata": {},
   "outputs": [],
   "source": [
    "def transform_bool(_df, name):\n",
    "    _df[name] = _df[name].map({'No': -1, \"Maybe\": 0, 'Yes': 1}).astype(float)\n",
    "\n",
    "\n",
    "def transform_category(_df, name):\n",
    "    for cat in _df[name].unique():\n",
    "        _df[\"Is_\" + name + \"_\" + cat] = (_df[name] == cat).astype(float)\n",
    "    del _df[name]\n",
    "\n",
    "\n",
    "def transform_manual(_df):\n",
    "    _df[\"Age_group\"] = _df[\"Age_group\"].map({'Below_30': 0, '30-45': 1, '45_and_up': 2}).astype(float)\n",
    "    _df[\"Voting_Time\"] = _df[\"Voting_Time\"].map({'By_16:00': 0, 'After_16:00': 1}).astype(float)\n",
    "    _df[\"Gender\"] = _df[\"Gender\"].map({'Male': -1, 'Female': 1}).astype(float)\n",
    "\n",
    "    transform_bool(_df, \"Looking_at_poles_results\")\n",
    "    transform_bool(_df, \"Married\")\n",
    "    transform_bool(_df, \"Financial_agenda_matters\")\n",
    "    transform_bool(_df, \"Will_vote_only_large_party\")\n",
    "    transform_category(_df, \"Most_Important_Issue\")\n",
    "    transform_category(_df, \"Occupation\")\n",
    "    transform_category(_df, \"Main_transportation\")\n",
    "    \n",
    "transform_manual(df_all)\n"
   ]
  },
  {
   "cell_type": "code",
   "execution_count": 164,
   "metadata": {
    "collapsed": true
   },
   "outputs": [],
   "source": [
    "def scale_numeric(_df, features):\n",
    "    for f in features:\n",
    "        _df[f] = (_df[f] - _df[f].min()) / (_df[f].max() - _df[f].min())\n",
    "        \n",
    "scale_numeric(df_all, numeric_features)"
   ]
  },
  {
   "cell_type": "code",
   "execution_count": 165,
   "metadata": {},
   "outputs": [
    {
     "data": {
      "text/html": [
       "<div>\n",
       "<style>\n",
       "    .dataframe thead tr:only-child th {\n",
       "        text-align: right;\n",
       "    }\n",
       "\n",
       "    .dataframe thead th {\n",
       "        text-align: left;\n",
       "    }\n",
       "\n",
       "    .dataframe tbody tr th {\n",
       "        vertical-align: top;\n",
       "    }\n",
       "</style>\n",
       "<table border=\"1\" class=\"dataframe\">\n",
       "  <thead>\n",
       "    <tr style=\"text-align: right;\">\n",
       "      <th></th>\n",
       "      <th>%Of_Household_Income</th>\n",
       "      <th>%Time_invested_in_work</th>\n",
       "      <th>%_satisfaction_financial_policy</th>\n",
       "      <th>AVG_lottary_expanses</th>\n",
       "      <th>Age_group</th>\n",
       "      <th>Avg_Residancy_Altitude</th>\n",
       "      <th>Avg_Satisfaction_with_previous_vote</th>\n",
       "      <th>Avg_education_importance</th>\n",
       "      <th>Avg_environmental_importance</th>\n",
       "      <th>Avg_government_satisfaction</th>\n",
       "      <th>...</th>\n",
       "      <th>Is_Most_Important_Issue_Other</th>\n",
       "      <th>Is_Occupation_Hightech</th>\n",
       "      <th>Is_Occupation_Services_or_Retail</th>\n",
       "      <th>Is_Occupation_Industry_or_other</th>\n",
       "      <th>Is_Occupation_Public_Sector</th>\n",
       "      <th>Is_Occupation_Student_or_Unemployed</th>\n",
       "      <th>Is_Main_transportation_Public_or_other</th>\n",
       "      <th>Is_Main_transportation_Motorcycle_or_truck</th>\n",
       "      <th>Is_Main_transportation_Car</th>\n",
       "      <th>Is_Main_transportation_Foot_or_bicycle</th>\n",
       "    </tr>\n",
       "  </thead>\n",
       "  <tbody>\n",
       "    <tr>\n",
       "      <th>count</th>\n",
       "      <td>20000.000000</td>\n",
       "      <td>20000.000000</td>\n",
       "      <td>20000.000000</td>\n",
       "      <td>20000.000000</td>\n",
       "      <td>20000.000000</td>\n",
       "      <td>20000.000000</td>\n",
       "      <td>20000.000000</td>\n",
       "      <td>20000.000000</td>\n",
       "      <td>20000.000000</td>\n",
       "      <td>20000.000000</td>\n",
       "      <td>...</td>\n",
       "      <td>20000.000000</td>\n",
       "      <td>20000.000000</td>\n",
       "      <td>20000.000000</td>\n",
       "      <td>20000.000000</td>\n",
       "      <td>20000.000000</td>\n",
       "      <td>20000.00000</td>\n",
       "      <td>20000.000000</td>\n",
       "      <td>20000.000000</td>\n",
       "      <td>20000.000000</td>\n",
       "      <td>20000.00000</td>\n",
       "    </tr>\n",
       "    <tr>\n",
       "      <th>mean</th>\n",
       "      <td>0.500096</td>\n",
       "      <td>0.502305</td>\n",
       "      <td>0.498935</td>\n",
       "      <td>0.318778</td>\n",
       "      <td>0.999550</td>\n",
       "      <td>0.497648</td>\n",
       "      <td>0.431037</td>\n",
       "      <td>0.501225</td>\n",
       "      <td>0.502888</td>\n",
       "      <td>0.498390</td>\n",
       "      <td>...</td>\n",
       "      <td>0.053750</td>\n",
       "      <td>0.199650</td>\n",
       "      <td>0.196100</td>\n",
       "      <td>0.207350</td>\n",
       "      <td>0.199850</td>\n",
       "      <td>0.19705</td>\n",
       "      <td>0.246900</td>\n",
       "      <td>0.258300</td>\n",
       "      <td>0.248900</td>\n",
       "      <td>0.24590</td>\n",
       "    </tr>\n",
       "    <tr>\n",
       "      <th>std</th>\n",
       "      <td>0.284968</td>\n",
       "      <td>0.287280</td>\n",
       "      <td>0.288724</td>\n",
       "      <td>0.094720</td>\n",
       "      <td>0.807826</td>\n",
       "      <td>0.286547</td>\n",
       "      <td>0.136997</td>\n",
       "      <td>0.286725</td>\n",
       "      <td>0.286283</td>\n",
       "      <td>0.287250</td>\n",
       "      <td>...</td>\n",
       "      <td>0.225529</td>\n",
       "      <td>0.399747</td>\n",
       "      <td>0.397055</td>\n",
       "      <td>0.405419</td>\n",
       "      <td>0.399897</td>\n",
       "      <td>0.39778</td>\n",
       "      <td>0.431219</td>\n",
       "      <td>0.437711</td>\n",
       "      <td>0.432387</td>\n",
       "      <td>0.43063</td>\n",
       "    </tr>\n",
       "    <tr>\n",
       "      <th>min</th>\n",
       "      <td>0.000000</td>\n",
       "      <td>0.000000</td>\n",
       "      <td>0.000000</td>\n",
       "      <td>0.000000</td>\n",
       "      <td>0.000000</td>\n",
       "      <td>0.000000</td>\n",
       "      <td>0.000000</td>\n",
       "      <td>0.000000</td>\n",
       "      <td>0.000000</td>\n",
       "      <td>0.000000</td>\n",
       "      <td>...</td>\n",
       "      <td>0.000000</td>\n",
       "      <td>0.000000</td>\n",
       "      <td>0.000000</td>\n",
       "      <td>0.000000</td>\n",
       "      <td>0.000000</td>\n",
       "      <td>0.00000</td>\n",
       "      <td>0.000000</td>\n",
       "      <td>0.000000</td>\n",
       "      <td>0.000000</td>\n",
       "      <td>0.00000</td>\n",
       "    </tr>\n",
       "    <tr>\n",
       "      <th>25%</th>\n",
       "      <td>0.256365</td>\n",
       "      <td>0.254788</td>\n",
       "      <td>0.249737</td>\n",
       "      <td>0.260159</td>\n",
       "      <td>0.000000</td>\n",
       "      <td>0.251452</td>\n",
       "      <td>0.333615</td>\n",
       "      <td>0.256727</td>\n",
       "      <td>0.256492</td>\n",
       "      <td>0.248306</td>\n",
       "      <td>...</td>\n",
       "      <td>0.000000</td>\n",
       "      <td>0.000000</td>\n",
       "      <td>0.000000</td>\n",
       "      <td>0.000000</td>\n",
       "      <td>0.000000</td>\n",
       "      <td>0.00000</td>\n",
       "      <td>0.000000</td>\n",
       "      <td>0.000000</td>\n",
       "      <td>0.000000</td>\n",
       "      <td>0.00000</td>\n",
       "    </tr>\n",
       "    <tr>\n",
       "      <th>50%</th>\n",
       "      <td>0.501970</td>\n",
       "      <td>0.501237</td>\n",
       "      <td>0.496381</td>\n",
       "      <td>0.292746</td>\n",
       "      <td>1.000000</td>\n",
       "      <td>0.497261</td>\n",
       "      <td>0.392980</td>\n",
       "      <td>0.504693</td>\n",
       "      <td>0.502904</td>\n",
       "      <td>0.500058</td>\n",
       "      <td>...</td>\n",
       "      <td>0.000000</td>\n",
       "      <td>0.000000</td>\n",
       "      <td>0.000000</td>\n",
       "      <td>0.000000</td>\n",
       "      <td>0.000000</td>\n",
       "      <td>0.00000</td>\n",
       "      <td>0.000000</td>\n",
       "      <td>0.000000</td>\n",
       "      <td>0.000000</td>\n",
       "      <td>0.00000</td>\n",
       "    </tr>\n",
       "    <tr>\n",
       "      <th>75%</th>\n",
       "      <td>0.741296</td>\n",
       "      <td>0.749702</td>\n",
       "      <td>0.749856</td>\n",
       "      <td>0.344399</td>\n",
       "      <td>2.000000</td>\n",
       "      <td>0.745580</td>\n",
       "      <td>0.492940</td>\n",
       "      <td>0.745466</td>\n",
       "      <td>0.748352</td>\n",
       "      <td>0.745353</td>\n",
       "      <td>...</td>\n",
       "      <td>0.000000</td>\n",
       "      <td>0.000000</td>\n",
       "      <td>0.000000</td>\n",
       "      <td>0.000000</td>\n",
       "      <td>0.000000</td>\n",
       "      <td>0.00000</td>\n",
       "      <td>0.000000</td>\n",
       "      <td>1.000000</td>\n",
       "      <td>0.000000</td>\n",
       "      <td>0.00000</td>\n",
       "    </tr>\n",
       "    <tr>\n",
       "      <th>max</th>\n",
       "      <td>1.000000</td>\n",
       "      <td>1.000000</td>\n",
       "      <td>1.000000</td>\n",
       "      <td>1.000000</td>\n",
       "      <td>2.000000</td>\n",
       "      <td>1.000000</td>\n",
       "      <td>1.000000</td>\n",
       "      <td>1.000000</td>\n",
       "      <td>1.000000</td>\n",
       "      <td>1.000000</td>\n",
       "      <td>...</td>\n",
       "      <td>1.000000</td>\n",
       "      <td>1.000000</td>\n",
       "      <td>1.000000</td>\n",
       "      <td>1.000000</td>\n",
       "      <td>1.000000</td>\n",
       "      <td>1.00000</td>\n",
       "      <td>1.000000</td>\n",
       "      <td>1.000000</td>\n",
       "      <td>1.000000</td>\n",
       "      <td>1.00000</td>\n",
       "    </tr>\n",
       "  </tbody>\n",
       "</table>\n",
       "<p>8 rows × 51 columns</p>\n",
       "</div>"
      ],
      "text/plain": [
       "       %Of_Household_Income  %Time_invested_in_work  \\\n",
       "count          20000.000000            20000.000000   \n",
       "mean               0.500096                0.502305   \n",
       "std                0.284968                0.287280   \n",
       "min                0.000000                0.000000   \n",
       "25%                0.256365                0.254788   \n",
       "50%                0.501970                0.501237   \n",
       "75%                0.741296                0.749702   \n",
       "max                1.000000                1.000000   \n",
       "\n",
       "       %_satisfaction_financial_policy  AVG_lottary_expanses     Age_group  \\\n",
       "count                     20000.000000          20000.000000  20000.000000   \n",
       "mean                          0.498935              0.318778      0.999550   \n",
       "std                           0.288724              0.094720      0.807826   \n",
       "min                           0.000000              0.000000      0.000000   \n",
       "25%                           0.249737              0.260159      0.000000   \n",
       "50%                           0.496381              0.292746      1.000000   \n",
       "75%                           0.749856              0.344399      2.000000   \n",
       "max                           1.000000              1.000000      2.000000   \n",
       "\n",
       "       Avg_Residancy_Altitude  Avg_Satisfaction_with_previous_vote  \\\n",
       "count            20000.000000                         20000.000000   \n",
       "mean                 0.497648                             0.431037   \n",
       "std                  0.286547                             0.136997   \n",
       "min                  0.000000                             0.000000   \n",
       "25%                  0.251452                             0.333615   \n",
       "50%                  0.497261                             0.392980   \n",
       "75%                  0.745580                             0.492940   \n",
       "max                  1.000000                             1.000000   \n",
       "\n",
       "       Avg_education_importance  Avg_environmental_importance  \\\n",
       "count              20000.000000                  20000.000000   \n",
       "mean                   0.501225                      0.502888   \n",
       "std                    0.286725                      0.286283   \n",
       "min                    0.000000                      0.000000   \n",
       "25%                    0.256727                      0.256492   \n",
       "50%                    0.504693                      0.502904   \n",
       "75%                    0.745466                      0.748352   \n",
       "max                    1.000000                      1.000000   \n",
       "\n",
       "       Avg_government_satisfaction                   ...                    \\\n",
       "count                 20000.000000                   ...                     \n",
       "mean                      0.498390                   ...                     \n",
       "std                       0.287250                   ...                     \n",
       "min                       0.000000                   ...                     \n",
       "25%                       0.248306                   ...                     \n",
       "50%                       0.500058                   ...                     \n",
       "75%                       0.745353                   ...                     \n",
       "max                       1.000000                   ...                     \n",
       "\n",
       "       Is_Most_Important_Issue_Other  Is_Occupation_Hightech  \\\n",
       "count                   20000.000000            20000.000000   \n",
       "mean                        0.053750                0.199650   \n",
       "std                         0.225529                0.399747   \n",
       "min                         0.000000                0.000000   \n",
       "25%                         0.000000                0.000000   \n",
       "50%                         0.000000                0.000000   \n",
       "75%                         0.000000                0.000000   \n",
       "max                         1.000000                1.000000   \n",
       "\n",
       "       Is_Occupation_Services_or_Retail  Is_Occupation_Industry_or_other  \\\n",
       "count                      20000.000000                     20000.000000   \n",
       "mean                           0.196100                         0.207350   \n",
       "std                            0.397055                         0.405419   \n",
       "min                            0.000000                         0.000000   \n",
       "25%                            0.000000                         0.000000   \n",
       "50%                            0.000000                         0.000000   \n",
       "75%                            0.000000                         0.000000   \n",
       "max                            1.000000                         1.000000   \n",
       "\n",
       "       Is_Occupation_Public_Sector  Is_Occupation_Student_or_Unemployed  \\\n",
       "count                 20000.000000                          20000.00000   \n",
       "mean                      0.199850                              0.19705   \n",
       "std                       0.399897                              0.39778   \n",
       "min                       0.000000                              0.00000   \n",
       "25%                       0.000000                              0.00000   \n",
       "50%                       0.000000                              0.00000   \n",
       "75%                       0.000000                              0.00000   \n",
       "max                       1.000000                              1.00000   \n",
       "\n",
       "       Is_Main_transportation_Public_or_other  \\\n",
       "count                            20000.000000   \n",
       "mean                                 0.246900   \n",
       "std                                  0.431219   \n",
       "min                                  0.000000   \n",
       "25%                                  0.000000   \n",
       "50%                                  0.000000   \n",
       "75%                                  0.000000   \n",
       "max                                  1.000000   \n",
       "\n",
       "       Is_Main_transportation_Motorcycle_or_truck  Is_Main_transportation_Car  \\\n",
       "count                                20000.000000                20000.000000   \n",
       "mean                                     0.258300                    0.248900   \n",
       "std                                      0.437711                    0.432387   \n",
       "min                                      0.000000                    0.000000   \n",
       "25%                                      0.000000                    0.000000   \n",
       "50%                                      0.000000                    0.000000   \n",
       "75%                                      1.000000                    0.000000   \n",
       "max                                      1.000000                    1.000000   \n",
       "\n",
       "       Is_Main_transportation_Foot_or_bicycle  \n",
       "count                             20000.00000  \n",
       "mean                                  0.24590  \n",
       "std                                   0.43063  \n",
       "min                                   0.00000  \n",
       "25%                                   0.00000  \n",
       "50%                                   0.00000  \n",
       "75%                                   0.00000  \n",
       "max                                   1.00000  \n",
       "\n",
       "[8 rows x 51 columns]"
      ]
     },
     "execution_count": 165,
     "metadata": {},
     "output_type": "execute_result"
    }
   ],
   "source": [
    "df_all.describe()"
   ]
  },
  {
   "cell_type": "code",
   "execution_count": 166,
   "metadata": {
    "collapsed": true
   },
   "outputs": [],
   "source": [
    "# df_Votes = df_all['Vote']\n",
    "# df_Ids = df_all['IdentityCard_Num']\n",
    "# df_split = df_all['split']\n",
    "\n",
    "df_all['split'] = df_split\n",
    "df_all['Vote'] = df_Votes\n",
    "df_all['IdentityCard_Num'] = df_Ids\n",
    "\n",
    "# train_split = 0\n",
    "# test_split = 1\n",
    "# validation_split = 2\n",
    "# new_split = 3\n",
    "\n",
    "df_train = df_all[df_all['split'] == train_split]\n",
    "df_test = df_all[df_all['split'] == test_split]\n",
    "df_validation = df_all[df_all['split'] == validation_split]\n",
    "\n",
    "df_init_data = df_all[df_all['split'] != new_split]\n",
    "df_new = df_all[df_all['split'] == new_split]"
   ]
  },
  {
   "cell_type": "code",
   "execution_count": 167,
   "metadata": {
    "collapsed": true
   },
   "outputs": [],
   "source": [
    "df_train_X = df_train.drop(['split', 'Vote', 'IdentityCard_Num'],axis=1)\n",
    "df_train_Y = df_train['Vote']\n",
    "\n",
    "df_test_X = df_test.drop(['split', 'Vote', 'IdentityCard_Num'],axis=1)\n",
    "df_test_Y = df_test['Vote']\n",
    "\n",
    "df_validation_X = df_validation.drop(['split', 'Vote', 'IdentityCard_Num'],axis=1)\n",
    "df_validation_Y = df_validation['Vote']\n",
    "\n",
    "df_init_data_X = df_init_data.drop(['split', 'Vote', 'IdentityCard_Num'],axis=1)\n",
    "df_init_data_Y = df_init_data['Vote']\n",
    "\n",
    "\n",
    "df_new_Ids = df_new['IdentityCard_Num']\n",
    "df_new_X = df_new.drop(['split', 'Vote', 'IdentityCard_Num'],axis=1)\n"
   ]
  },
  {
   "cell_type": "code",
   "execution_count": 168,
   "metadata": {},
   "outputs": [
    {
     "name": "stdout",
     "output_type": "stream",
     "text": [
      "***** RandomForestClassifier *****\n",
      "             precision    recall  f1-score   support\n",
      "\n",
      "      Blues    0.90792   0.98252   0.94374       572\n",
      "     Browns    0.92150   0.97122   0.94571      1112\n",
      "     Greens    1.00000   1.00000   1.00000       957\n",
      "      Greys    0.99359   0.96573   0.97946       321\n",
      "    Oranges    0.94611   0.94895   0.94753       333\n",
      "      Pinks    0.95993   0.89984   0.92892       639\n",
      "    Purples    0.96173   0.97362   0.96764      1213\n",
      "       Reds    0.95692   0.97188   0.96434       320\n",
      "     Whites    0.89205   0.75481   0.81771       208\n",
      "    Yellows    0.96403   0.82462   0.88889       325\n",
      "\n",
      "avg / total    0.95335   0.95283   0.95221      6000\n",
      "\n",
      "***** RandomForestClassifier *****\n",
      "             precision    recall  f1-score   support\n",
      "\n",
      "      Blues    0.91349   0.98011   0.94563       905\n",
      "     Browns    0.91963   0.97309   0.94561      1858\n",
      "     Greens    1.00000   1.00000   1.00000      1629\n",
      "      Greys    0.99627   0.96915   0.98252       551\n",
      "    Oranges    0.94353   0.97004   0.95660       534\n",
      "      Pinks    0.94970   0.90335   0.92594      1045\n",
      "    Purples    0.97344   0.97533   0.97438      2067\n",
      "       Reds    0.97588   0.97048   0.97317       542\n",
      "     Whites    0.90647   0.75000   0.82085       336\n",
      "    Yellows    0.96146   0.84240   0.89800       533\n",
      "\n",
      "avg / total    0.95677   0.95630   0.95575     10000\n",
      "\n"
     ]
    }
   ],
   "source": [
    "from sklearn.model_selection import cross_val_predict\n",
    "from sklearn.metrics import classification_report\n",
    "\n",
    "clf = RandomForestClassifier(min_samples_split=6, n_estimators=100, random_state=0)\n",
    "pred = cross_val_predict(clf, df_train_X.values, df_train_Y.values, cv=30)\n",
    "print \"***** %s *****\" % clf.__class__.__name__\n",
    "print classification_report(df_train_Y.values, pred, digits=5)\n",
    "\n",
    "\n",
    "clf = RandomForestClassifier(min_samples_split=6, n_estimators=100, random_state=0)\n",
    "pred = cross_val_predict(clf, df_init_data_X.values, df_init_data_Y.values, cv=30)\n",
    "print \"***** %s *****\" % clf.__class__.__name__\n",
    "print classification_report(df_init_data_Y.values, pred, digits=5)\n",
    "\n"
   ]
  },
  {
   "cell_type": "code",
   "execution_count": 169,
   "metadata": {},
   "outputs": [
    {
     "name": "stdout",
     "output_type": "stream",
     "text": [
      "***** RandomForestClassifier *****\n",
      "             precision    recall  f1-score   support\n",
      "\n",
      "      Blues    0.90354   0.98252   0.94137       572\n",
      "     Browns    0.92464   0.98201   0.95246      1112\n",
      "     Greens    1.00000   0.99478   0.99738       957\n",
      "      Greys    0.98083   0.95639   0.96845       321\n",
      "    Oranges    0.93491   0.94895   0.94188       333\n",
      "      Pinks    0.97479   0.90767   0.94003       639\n",
      "    Purples    0.97884   0.99176   0.98526      1213\n",
      "       Reds    0.96845   0.95937   0.96389       320\n",
      "     Whites    0.93333   0.80769   0.86598       208\n",
      "    Yellows    0.96337   0.80923   0.87960       325\n",
      "\n",
      "avg / total    0.95926   0.95833   0.95781      6000\n",
      "\n",
      "***** RandomForestClassifier *****\n",
      "             precision    recall  f1-score   support\n",
      "\n",
      "      Blues    0.90798   0.98122   0.94318       905\n",
      "     Browns    0.92683   0.98170   0.95348      1858\n",
      "     Greens    0.99938   0.99632   0.99785      1629\n",
      "      Greys    0.97782   0.96007   0.96886       551\n",
      "    Oranges    0.92896   0.95506   0.94183       534\n",
      "      Pinks    0.97160   0.91675   0.94338      1045\n",
      "    Purples    0.98606   0.99274   0.98939      2067\n",
      "       Reds    0.97744   0.95941   0.96834       542\n",
      "     Whites    0.93333   0.79167   0.85668       336\n",
      "    Yellows    0.96272   0.82364   0.88777       533\n",
      "\n",
      "avg / total    0.96166   0.96090   0.96042     10000\n",
      "\n"
     ]
    }
   ],
   "source": [
    "fixes_useful_features = [\n",
    "    'Avg_Satisfaction_with_previous_vote',\n",
    "    'Number_of_valued_Kneset_members',\n",
    "    'Yearly_IncomeK',\n",
    "    'Overall_happiness_score',\n",
    "    'Avg_monthly_expense_when_under_age_21',\n",
    "    'Will_vote_only_large_party',\n",
    "    'Garden_sqr_meter_per_person_in_residancy_area',\n",
    "    'Is_Most_Important_Issue_Other',\n",
    "    'Is_Most_Important_Issue_Financial',\n",
    "    'Is_Most_Important_Issue_Environment',\n",
    "    'Is_Most_Important_Issue_Military',\n",
    "    'Is_Most_Important_Issue_Education',\n",
    "    'Is_Most_Important_Issue_Foreign_Affairs',\n",
    "    'Is_Most_Important_Issue_Social'\n",
    "]\n",
    "\n",
    "df_test_X = df_test_X[fixes_useful_features]\n",
    "df_train_X = df_train_X[fixes_useful_features]\n",
    "df_init_data_X = df_init_data_X[fixes_useful_features] \n",
    "df_new_X = df_new_X[fixes_useful_features]\n",
    "\n",
    "clf = RandomForestClassifier(min_samples_split=6, n_estimators=100, random_state=0)\n",
    "pred = cross_val_predict(clf, df_train_X.values, df_train_Y.values, cv=30)\n",
    "print \"***** %s *****\" % clf.__class__.__name__\n",
    "print classification_report(df_train_Y.values, pred, digits=5)\n",
    "\n",
    "\n",
    "clf = RandomForestClassifier(min_samples_split=6, n_estimators=100, random_state=0)\n",
    "pred = cross_val_predict(clf, df_init_data_X.values, df_init_data_Y.values, cv=30)\n",
    "print \"***** %s *****\" % clf.__class__.__name__\n",
    "print classification_report(df_init_data_Y.values, pred, digits=5)\n",
    "\n"
   ]
  },
  {
   "cell_type": "code",
   "execution_count": 214,
   "metadata": {},
   "outputs": [
    {
     "name": "stdout",
     "output_type": "stream",
     "text": [
      "2000\n",
      "Counter({'Purples': 455, 'Browns': 394, 'Greens': 330, 'Pinks': 196, 'Blues': 181, 'Oranges': 113, 'Greys': 100, 'Reds': 94, 'Yellows': 89, 'Whites': 48})\n",
      "predicted winner is party ## Purples ##\n"
     ]
    }
   ],
   "source": [
    "clf = RandomForestClassifier(min_samples_split=4, n_estimators=200, random_state=0)\n",
    "clf.fit(df_train_X.values, df_train_Y.values)\n",
    "\n",
    "pred = clf.predict(df_test_X.values)\n",
    "distribution = Counter(pred)\n",
    "print distribution\n",
    "\n",
    "print \"predicted winner is party ## %s ##\" % distribution.most_common(1)[0][0]\n"
   ]
  },
  {
   "cell_type": "code",
   "execution_count": 215,
   "metadata": {},
   "outputs": [
    {
     "name": "stdout",
     "output_type": "stream",
     "text": [
      "Total Wrong predictions 89 out of 2000, hit rate: 95.550000%\n"
     ]
    }
   ],
   "source": [
    "def evaluate_miss_rate(target, pred):\n",
    "    miss_vals = []\n",
    "    real_vals = []\n",
    "    toples = []\n",
    "\n",
    "    miss_count = 0\n",
    "    for i, j in enumerate(pred):\n",
    "        if pred[i] != target[i]:\n",
    "            miss_vals.append(pred[i][0])\n",
    "            real_vals.append(target[i][0])\n",
    "            toples.append((pred[i][0],target[i][0]))\n",
    "            miss_count = miss_count + 1\n",
    "\n",
    "    print \"Total Wrong predictions %d out of %d, hit rate: %f\"% (miss_count, target.size, 100 - miss_count/float(target.size) * 100) + '%'\n",
    "    \n",
    "evaluate_miss_rate(df_test_Y.values, pred)"
   ]
  },
  {
   "cell_type": "code",
   "execution_count": 198,
   "metadata": {},
   "outputs": [
    {
     "name": "stdout",
     "output_type": "stream",
     "text": [
      "Counter({'Browns': 2362, 'Purples': 2053, 'Pinks': 1224, 'Greens': 1021, 'Blues': 1018, 'Oranges': 722, 'Greys': 595, 'Reds': 402, 'Yellows': 339, 'Whites': 264})\n",
      "predicted winner is party ## Browns ##\n"
     ]
    }
   ],
   "source": [
    "clf = RandomForestClassifier(min_samples_split=6, n_estimators=100, random_state=0)\n",
    "clf.fit(df_init_data_X.values, df_init_data_Y.values)\n",
    "\n",
    "pred = clf.predict(df_new_X.values)\n",
    "distribution = Counter(pred)\n",
    "print distribution\n",
    "\n",
    "print \"predicted winner is party ## %s ##\" % distribution.most_common(1)[0][0]\n"
   ]
  },
  {
   "cell_type": "code",
   "execution_count": null,
   "metadata": {
    "collapsed": true
   },
   "outputs": [],
   "source": []
  },
  {
   "cell_type": "markdown",
   "metadata": {},
   "source": [
    "### Looking at the data\n",
    "checing for nil values"
   ]
  },
  {
   "cell_type": "markdown",
   "metadata": {},
   "source": [
    "__During this exersice we will try to treat the new data and the validation data the same\n",
    "Meaning we will do the same operations on both, and than measure our success with the validation data.__"
   ]
  },
  {
   "cell_type": "code",
   "execution_count": null,
   "metadata": {},
   "outputs": [],
   "source": [
    "# a = set(df_new.columns)\n",
    "# b = set(df_validation.columns)\n",
    "\n",
    "# print \"Only in df_new\"\n",
    "# print \"_\" * 40\n",
    "# for f in sorted(a-b):\n",
    "#     print f\n",
    "\n",
    "# print \"Only in df_validation\"\n",
    "# print \"_\" * 40\n",
    "# for f in sorted(b-a):\n",
    "#     print f"
   ]
  },
  {
   "cell_type": "markdown",
   "metadata": {},
   "source": [
    "#### Looks like we have broken columns between validation and new data. lets fix that:\n"
   ]
  },
  {
   "cell_type": "code",
   "execution_count": null,
   "metadata": {
    "collapsed": true
   },
   "outputs": [],
   "source": [
    "# df_new[\"%Of_Household_Income\"] = df_new[\"X.Of_Household_Income\"]\n",
    "# df_new[\"%Time_invested_in_work\"] = df_new[\"X.Time_invested_in_work\"]\n",
    "# df_new[\"%_satisfaction_financial_policy\"] = df_new[\"X._satisfaction_financial_policy\"]\n",
    "# df_new[\"Financial_balance_score_(0-1)\"] = df_new[\"Financial_balance_score_.0.1.\"]\n",
    "\n",
    "# df_new.drop(['X.Of_Household_Income', 'X.Time_invested_in_work', 'X._satisfaction_financial_policy', 'Financial_balance_score_.0.1.'],inplace=True, axis=1)\n"
   ]
  },
  {
   "cell_type": "markdown",
   "metadata": {},
   "source": [
    "## Preprocessing the new data and the Validation set\n",
    "\n",
    "first, we want to \"hide\" unwanted colums from each dataset: \n",
    "- df_validation - has the \"Vote\" column \n",
    "- df_new - has the \"IdentityCard_Num\" column.\n",
    "\n",
    "we will remove those for the data cleansing process, and glue them back after we're done."
   ]
  },
  {
   "cell_type": "code",
   "execution_count": null,
   "metadata": {
    "collapsed": true
   },
   "outputs": [],
   "source": [
    "# validation_labels = df_validation['Vote']\n",
    "# new_data_IDs = df_new['IdentityCard_Num']\n",
    "\n",
    "# df_validation = df_validation.drop(['Vote'],axis=1)\n",
    "# df_new = df_new.drop(['IdentityCard_Num'],axis=1)"
   ]
  },
  {
   "cell_type": "code",
   "execution_count": null,
   "metadata": {
    "collapsed": true
   },
   "outputs": [],
   "source": [
    "def rows_with_nan(_df):\n",
    "    return Counter(_df.isnull().sum(axis=1).tolist())\n",
    "\n",
    "def plot_rows_with_nan(_df, name=\"\"):\n",
    "    counter = rows_with_nan(_df)\n",
    "    labels, histogram = zip(*counter.most_common())\n",
    "    fig1, ax1 = plt.subplots()\n",
    "    ax1.pie(histogram, labels=labels,\n",
    "            colors = ['green', 'yellowgreen', 'yellow','orange', 'red'],\n",
    "            autopct = lambda(p): '{:.0f}  ({:.2f}%)'.format(p * sum(histogram) / 100, p))\n",
    "    ax1.axis('equal')\n",
    "    plt.title(name)\n",
    "    plt.show()\n",
    "    "
   ]
  },
  {
   "cell_type": "code",
   "execution_count": null,
   "metadata": {},
   "outputs": [],
   "source": [
    "plot_rows_with_nan(df_validation, \"Validation Null Count\")\n",
    "plot_rows_with_nan(df_new, \"New data Null Count\")\n"
   ]
  },
  {
   "cell_type": "markdown",
   "metadata": {},
   "source": [
    "We can see that the new data has a lot less missing values than the validation data.\n",
    "This is good, this means that for we are good on the validation data, we will be even better on the new data."
   ]
  },
  {
   "cell_type": "code",
   "execution_count": null,
   "metadata": {
    "collapsed": true
   },
   "outputs": [],
   "source": [
    "def group_features(_df):\n",
    "    _df = _df.dropna()\n",
    "    all_features = _df.columns\n",
    "    categorical_features = _df.select_dtypes(include=[\"object\"])\n",
    "    numeric_features = _df.select_dtypes(exclude=[\"object\"])\n",
    "\n",
    "    return [all_features, categorical_features.columns, numeric_features.columns]\n",
    "\n"
   ]
  },
  {
   "cell_type": "code",
   "execution_count": null,
   "metadata": {
    "collapsed": true
   },
   "outputs": [],
   "source": [
    "all_features, categorical_features, numeric_features = group_features(df_new)\n"
   ]
  },
  {
   "cell_type": "markdown",
   "metadata": {},
   "source": [
    "#### Categorial Features"
   ]
  },
  {
   "cell_type": "code",
   "execution_count": null,
   "metadata": {},
   "outputs": [],
   "source": [
    "for f in categorical_features:\n",
    "    print f"
   ]
  },
  {
   "cell_type": "markdown",
   "metadata": {},
   "source": [
    "#### Numeric Features"
   ]
  },
  {
   "cell_type": "code",
   "execution_count": null,
   "metadata": {},
   "outputs": [],
   "source": [
    "for f in numeric_features:\n",
    "    print f"
   ]
  },
  {
   "cell_type": "markdown",
   "metadata": {},
   "source": [
    "## Helper methods - taken from ex2 - Data cleansing\n",
    "we will document them once we use them."
   ]
  },
  {
   "cell_type": "code",
   "execution_count": null,
   "metadata": {
    "collapsed": true
   },
   "outputs": [],
   "source": [
    "\n",
    "def fill_numeric_features(_df, features):\n",
    "    for f in features:\n",
    "        _df[f + \"_fill\"].fillna(_df[f + \"_fill\"].median(), inplace=True)\n",
    "\n",
    "\n",
    "def fill_numeric_by_correlation(_df, factor, features):\n",
    "    redundant_features = []\n",
    "    cor = _df[features].dropna().corr()\n",
    "    print \"We choose \" + str(factor) + \" correlation as correlated\"\n",
    "    indices = np.where(cor > factor)\n",
    "    indices = [(cor.index[x], cor.columns[y], cor.loc[cor.index[x],cor.columns[y]]) for x, y in zip(*indices) if  x < y]\n",
    "    indices = sorted(indices, key=lambda pair: pair[2], reverse=True)\n",
    "    for pair in indices:\n",
    "        fill_f1_with_f2(_df, pair[0], pair[1], pair[2])\n",
    "        redundant_features.append(pair[1])\n",
    "    return redundant_features\n",
    "\n",
    "\n",
    "def fill_f1_with_f2(_df, f1, f2, val):\n",
    "    ratio = _df[f1].mean() / _df[f2].mean()\n",
    "    print 'Filling ' + f1 + ' with ' + f2 + ' due to correlation of %f'% val\n",
    "    for index, row in _df[_df[f1 + \"_fill\"].isnull()].iterrows():\n",
    "        if ~np.isnan(_df[f2][index]):\n",
    "            _df[f1 + \"_fill\"][index] = _df[f2][index] * ratio\n",
    "    \n",
    "    ratio = _df[f2].mean() / _df[f1].mean()\n",
    "    print 'Filling ' + f2 + ' with ' + f1 + ' due to correlation %f'% val\n",
    "    for index, row in _df[_df[f2 + \"_fill\"].isnull()].iterrows():\n",
    "        if ~np.isnan(_df[f1][index]):\n",
    "            _df[f2 + \"_fill\"][index] = _df[f1][index] * ratio\n",
    "\n",
    "def remove_fill(_df, features):\n",
    "    for f in features:\n",
    "        _df[f] = _df[f + \"_fill\"]\n",
    "        del _df[f + \"_fill\"]\n",
    "\n",
    "def create_fill(_df, features):\n",
    "    for f in features:\n",
    "        _df[f + \"_fill\"] = _df[f]\n"
   ]
  },
  {
   "cell_type": "markdown",
   "metadata": {},
   "source": [
    "In ex2 we showed that Most_Important_Issue is a mupltiplication of Last_school_grades.\n",
    "lets fill with this info the missing values"
   ]
  },
  {
   "cell_type": "code",
   "execution_count": null,
   "metadata": {
    "collapsed": true
   },
   "outputs": [],
   "source": [
    "most_important_issue_dic = {\n",
    "    'Military' : 30.0,\n",
    "    'Healthcare' : 80.0,\n",
    "    'Environment' : 90.0,\n",
    "    'Financial' : 60.0,\n",
    "    'Education': 100.0,\n",
    "    'Foreign_Affairs': 40.0,\n",
    "    'Social':70.0,\n",
    "    'Other': 50.0\n",
    "}\n",
    "\n",
    "def fill_most_important_issue_and_grades(_df ,most_important_issue_dic):\n",
    "    for k, v in most_important_issue_dic.iteritems():\n",
    "        ks = _df[_df['Most_Important_Issue'] == k]\n",
    "        ks['Last_school_grades'].fillna(v,inplace=True)\n",
    "        \n",
    "        vs = _df[_df['Last_school_grades'] == v]\n",
    "        vs['Most_Important_Issue'].fillna(k, inplace=True)\n",
    "    \n",
    "        \n",
    "fill_most_important_issue_and_grades(df_new, most_important_issue_dic)\n",
    "fill_most_important_issue_and_grades(df_validation, most_important_issue_dic)\n"
   ]
  },
  {
   "cell_type": "code",
   "execution_count": null,
   "metadata": {},
   "outputs": [],
   "source": [
    "plot_rows_with_nan(df_validation, \"Validation Null Count\")\n",
    "plot_rows_with_nan(df_new, \"New data Null Count\")"
   ]
  },
  {
   "cell_type": "markdown",
   "metadata": {},
   "source": [
    "We have seen in Ex02 that Looking_at_poles_results is a binary of Will_vote_only_large_party\n",
    "\n",
    "lets fill the data with this info"
   ]
  },
  {
   "cell_type": "code",
   "execution_count": null,
   "metadata": {},
   "outputs": [],
   "source": [
    "plot_rows_with_nan(df_validation, \"Validation Null Count\")\n",
    "plot_rows_with_nan(df_new, \"New data Null Count\")"
   ]
  },
  {
   "cell_type": "markdown",
   "metadata": {},
   "source": [
    "First we create a 'fill' column for each numric feature\n",
    "this column will use us as the temp fillet for the features to prevent wrong data fill due to filling order"
   ]
  },
  {
   "cell_type": "code",
   "execution_count": null,
   "metadata": {
    "collapsed": true
   },
   "outputs": [],
   "source": [
    "create_fill(df_validation, numeric_features)\n",
    "create_fill(df_new, numeric_features)\n"
   ]
  },
  {
   "cell_type": "markdown",
   "metadata": {},
   "source": [
    "\n"
   ]
  },
  {
   "cell_type": "markdown",
   "metadata": {},
   "source": [
    "### Using Pearson's Correlation Coefficient\n",
    "\n",
    "At this stage we are looking for corrlation between features\n",
    "We've set a threshold of 0.7 for the pearson's correlation coefficient. \n",
    "Any two features with a value of that and above will be considered \"highly correlated\" and will be used to to fill the data by multiplying the value from one column by that ratio and set it to the other.\n",
    "\n",
    "Since most of the columns are either complete or have at most 1 missing value, this will be a very useful tool.\n",
    "\n",
    "Our method will start from the most corrlated features till it gets to 0.7."
   ]
  },
  {
   "cell_type": "code",
   "execution_count": null,
   "metadata": {},
   "outputs": [],
   "source": [
    "corr_factor = 0.7\n",
    "print \"**\" * 40\n",
    "print \"VALIDATION\"\n",
    "print \"**\" * 40\n",
    "fill_numeric_by_correlation(df_validation, corr_factor, numeric_features)\n",
    "\n",
    "print \"**\" * 40\n",
    "print \"NEW DATA\"\n",
    "print \"**\" * 40\n",
    "fill_numeric_by_correlation(df_new, corr_factor, numeric_features)"
   ]
  },
  {
   "cell_type": "code",
   "execution_count": null,
   "metadata": {
    "collapsed": true
   },
   "outputs": [],
   "source": [
    "remove_fill(df_validation, numeric_features)\n",
    "remove_fill(df_new, numeric_features)"
   ]
  },
  {
   "cell_type": "markdown",
   "metadata": {},
   "source": [
    "### Lets check the missing values status now\n",
    "looks like we made an improvment, but there is still a way to go."
   ]
  },
  {
   "cell_type": "code",
   "execution_count": null,
   "metadata": {},
   "outputs": [],
   "source": [
    "plot_rows_with_nan(df_validation, \"Validation Null Count\")\n",
    "plot_rows_with_nan(df_new, \"New data Null Count\")"
   ]
  },
  {
   "cell_type": "code",
   "execution_count": null,
   "metadata": {
    "collapsed": true
   },
   "outputs": [],
   "source": [
    "def train_on_feature(df, feature):\n",
    "    train_data_X = df.drop([feature], axis=1).values\n",
    "    train_data_Y = df[feature].values\n",
    "    clf = RandomForestRegressor(n_estimators=50)\n",
    "      \n",
    "    return clf.fit(train_data_X, train_data_Y)\n",
    "\n",
    "def build_clf(df, feature):\n",
    "    df_tmp = df.copy()\n",
    "    df_tmp_noNaN = df_tmp.dropna()\n",
    "    print feature\n",
    "    print len(df_tmp[pd.isnull(df_tmp[feature])])\n",
    "    to_predict = df_tmp[pd.isnull(df_tmp[feature])].drop([feature],axis=1)\n",
    "    clf = train_on_feature(df_tmp_noNaN, feature)\n",
    "    return to_predict, clf\n",
    "\n",
    "\n",
    "def fill_numerical(_df, numeric_features):\n",
    "    results = {}\n",
    "    df_numeric= _df[numeric_features]\n",
    "    \n",
    "    indeces_with_less_than_2_nan = [df_numeric.loc[k].isnull().sum() < 2 for k in df_numeric.index.values]\n",
    "    df_for_prediction = df_numeric.loc[indeces_with_less_than_2_nan]\n",
    "    \n",
    "    for feature in numeric_features:\n",
    "        to_predict, clf = build_clf(df_for_prediction, feature) \n",
    "        if to_predict.shape[0] > 0:           \n",
    "            results[feature] = zip(to_predict.index.values, clf.predict(to_predict))\n",
    "    \n",
    "    #fill in the missing values\n",
    "    for feature, res in results.iteritems():\n",
    "        for item in res:\n",
    "            _df[feature][item[0]] = item[1]\n",
    "    return _df"
   ]
  },
  {
   "cell_type": "code",
   "execution_count": null,
   "metadata": {},
   "outputs": [],
   "source": [
    "# fill_numerical(df_validation, numeric_features)\n",
    "# fill_numerical(df_new, numeric_features)\n",
    "\n",
    "1"
   ]
  },
  {
   "cell_type": "markdown",
   "metadata": {},
   "source": [
    "### Looks like we are getting closer\n",
    "now all the numeric fields are full."
   ]
  },
  {
   "cell_type": "code",
   "execution_count": null,
   "metadata": {},
   "outputs": [],
   "source": [
    "plot_rows_with_nan(df_validation, \"Validation Null Count\")\n",
    "plot_rows_with_nan(df_new, \"New data Null Count\")"
   ]
  },
  {
   "cell_type": "code",
   "execution_count": null,
   "metadata": {
    "collapsed": true
   },
   "outputs": [],
   "source": [
    "# from fancyimpute import SoftImpute\n",
    "\n",
    "# def complete_fancy_impute(_df, features):\n",
    "#     data_no_cat = _df.drop(categorical_features, axis=1)\n",
    "#     completed = SoftImpute().complete(data_no_cat)\n",
    "#     print completed\n",
    "# #     _df[data_no_cat.columns] = completed\n",
    "#     plot_pie_nan_per_row(df)\n",
    "\n",
    "# complete_fancy_impute(df_validation)"
   ]
  },
  {
   "cell_type": "markdown",
   "metadata": {},
   "source": [
    "### Lets go for categorial now"
   ]
  },
  {
   "cell_type": "code",
   "execution_count": null,
   "metadata": {
    "collapsed": true
   },
   "outputs": [],
   "source": [
    "# def transform_bool(_df, name):\n",
    "#     _df[name] = _df[name].map({'No': -1, \"Maybe\": 0, 'Yes': 1}).astype(int)\n",
    "\n",
    "\n",
    "# def transform_category(_df, name):\n",
    "#     for cat in _df[name].unique():\n",
    "#         _df[\"Is_\" + name + \"_\" + cat] = (_df[name] == cat).astype(int)\n",
    "#     del _df[name]\n",
    "\n",
    "# def transform_manual(_df):\n",
    "#     _df[\"Age_group\"] = _df[\"Age_group\"].map({'Below_30': 0, '30-45': 1, '45_and_up': 2}).astype(int)\n",
    "#     _df[\"Voting_Time\"] = _df[\"Voting_Time\"].map({'By_16:00': 0, 'After_16:00': 1}).astype(int)\n",
    "#     _df[\"Gender\"] = _df[\"Gender\"].map({'Male': -1, 'Female': 1}).astype(int)\n",
    "\n",
    "#     transform_bool(_df, \"Looking_at_poles_results\")\n",
    "#     transform_bool(_df, \"Married\")\n",
    "#     transform_bool(_df, \"Financial_agenda_matters\")\n",
    "#     transform_bool(_df, \"Will_vote_only_large_party\")\n",
    "#     transform_category(_df, \"Most_Important_Issue\")\n",
    "#     transform_category(_df, \"Occupation\")\n",
    "#     transform_category(_df, \"Main_transportation\")\n",
    "\n",
    "# def transform_for_predicrtion(_df):\n",
    "#     _df[\"Age_group\"] = _df[\"Age_group\"].map({'Below_30': 0, '30-45': 1, '45_and_up': 2}).astype(int)\n",
    "#     _df[\"Voting_Time\"] = _df[\"Voting_Time\"].map({'By_16:00': 0, 'After_16:00': 1}).astype(int)\n",
    "#     _df[\"Gender\"] = _df[\"Gender\"].map({'Male': -1, 'Female': 1}).astype(int)\n",
    "\n",
    "#     transform_bool(_df, \"Looking_at_poles_results\")\n",
    "#     transform_bool(_df, \"Married\")\n",
    "#     transform_bool(_df, \"Financial_agenda_matters\")\n",
    "#     transform_bool(_df, \"Will_vote_only_large_party\")\n",
    "\n",
    "# def drop_if_exists(_df, column):\n",
    "#     if column in _df.columns:\n",
    "#         _df.drop([column], inplace=True, axis=1)\n",
    "    \n",
    "# def train_on_feature_cat(df, feature):\n",
    "#     df_transformed = df.copy()\n",
    "#     transform_for_predicrtion(df_transformed)\n",
    "    \n",
    "#     train_data_Y = df_transformed[feature].values\n",
    "#     drop_if_exists(df_transformed, \"Most_Important_Issue\")\n",
    "#     drop_if_exists(df_transformed, \"Occupation\")\n",
    "#     drop_if_exists(df_transformed, \"Main_transportation\")\n",
    "#     drop_if_exists(df_transformed, feature)\n",
    "\n",
    "#     print df_transformed.info()\n",
    "#     train_data_X = df_transformed.values\n",
    "#     print train_data_Y\n",
    "\n",
    "#     clf = RandomForestClassifier(n_estimators=50)\n",
    "#     return clf.fit(train_data_X, train_data_Y)\n",
    "\n",
    "# def build_clf_cat(df, feature):\n",
    "#     df_tmp = df.copy()\n",
    "#     df_tmp_noNaN = df_tmp.dropna()\n",
    "    \n",
    "#     to_predict = df_tmp[pd.isnull(df_tmp[feature])].drop([feature],axis=1)\n",
    "    \n",
    "#     to_predic_transformed = transform_for_predicrtion(df_tmp)\n",
    "#     drop_if_exists(to_predic_transformed, \"Most_Important_Issue\")\n",
    "#     drop_if_exists(to_predic_transformed, \"Occupation\")\n",
    "#     drop_if_exists(to_predic_transformed, \"Main_transportation\")\n",
    "    \n",
    "    \n",
    "#     clf = train_on_feature_cat(df_tmp_noNaN, feature)\n",
    "#     return to_predic_transformed, clf\n",
    "\n",
    "\n",
    "# def fill_cat(_df, categorial_features):\n",
    "#     results = {}\n",
    "    \n",
    "#     indeces_with_less_than_2_nan = [_df.loc[k].isnull().sum() < 2 for k in _df.index.values]\n",
    "#     df_for_prediction = _df.loc[indeces_with_less_than_2_nan]\n",
    "    \n",
    "#     for feature in categorial_features:\n",
    "#         print feature\n",
    "#         to_predict, clf = build_clf_cat(df_for_prediction, feature) \n",
    "#         if to_predict.shape[0] > 0:           \n",
    "#             results[feature] = zip(to_predict.index.values, clf.predict(to_predict))\n",
    "    \n",
    "#     #fill in the missing values\n",
    "#     for feature, res in results.iteritems():\n",
    "#         for item in res:\n",
    "#             _df[feature][item[0]] = item[1]\n",
    "#     return _df"
   ]
  },
  {
   "cell_type": "code",
   "execution_count": null,
   "metadata": {
    "collapsed": true
   },
   "outputs": [],
   "source": [
    "def fill_cat_simple(df, categorical_features):\n",
    "    for f in categorical_features:\n",
    "        df[f].fillna(Counter(df[f].dropna()).most_common(1)[0][0], inplace=True)\n",
    "\n",
    "def fill_numeric_simple(df, numeric_features):\n",
    "    for f in numeric_features:\n",
    "        df[f].fillna(df[f].mean(), inplace=True)\n",
    "\n"
   ]
  },
  {
   "cell_type": "code",
   "execution_count": null,
   "metadata": {
    "collapsed": true
   },
   "outputs": [],
   "source": [
    "fill_cat_simple(df_validation, categorical_features)\n",
    "fill_numeric_simple(df_validation, numeric_features)\n",
    "\n",
    "fill_cat_simple(df_new, categorical_features)\n",
    "fill_numeric_simple(df_new, numeric_features)"
   ]
  },
  {
   "cell_type": "code",
   "execution_count": null,
   "metadata": {},
   "outputs": [],
   "source": [
    "plot_rows_with_nan(df_validation, \"Validation Null Count\")\n",
    "plot_rows_with_nan(df_new, \"New data Null Count\")"
   ]
  },
  {
   "cell_type": "markdown",
   "metadata": {},
   "source": [
    "# Looks like we are done with data imputation\n",
    "### Now we can transform and scale the data\n",
    "#### Lets look what we have"
   ]
  },
  {
   "cell_type": "code",
   "execution_count": null,
   "metadata": {},
   "outputs": [],
   "source": [
    "df_validation.info()"
   ]
  },
  {
   "cell_type": "markdown",
   "metadata": {},
   "source": [
    "#### Now lets transform the categorial features to numric values"
   ]
  },
  {
   "cell_type": "code",
   "execution_count": null,
   "metadata": {
    "collapsed": true
   },
   "outputs": [],
   "source": [
    "def transform_bool(_df, name):\n",
    "    _df[name] = _df[name].map({'No': -1, \"Maybe\": 0, 'Yes': 1}).astype(int)\n",
    "\n",
    "\n",
    "def transform_category(_df, name):\n",
    "    for cat in _df[name].unique():\n",
    "        _df[\"Is_\" + name + \"_\" + cat] = (_df[name] == cat).astype(int)\n",
    "    del _df[name]\n",
    "\n",
    "\n",
    "def transform_manual(_df):\n",
    "    _df[\"Age_group\"] = _df[\"Age_group\"].map({'Below_30': 0, '30-45': 1, '45_and_up': 2}).astype(int)\n",
    "    _df[\"Voting_Time\"] = _df[\"Voting_Time\"].map({'By_16:00': 0, 'After_16:00': 1}).astype(int)\n",
    "    _df[\"Gender\"] = _df[\"Gender\"].map({'Male': -1, 'Female': 1}).astype(int)\n",
    "\n",
    "    transform_bool(_df, \"Looking_at_poles_results\")\n",
    "    transform_bool(_df, \"Married\")\n",
    "    transform_bool(_df, \"Financial_agenda_matters\")\n",
    "    transform_bool(_df, \"Will_vote_only_large_party\")\n",
    "    transform_category(_df, \"Most_Important_Issue\")\n",
    "    transform_category(_df, \"Occupation\")\n",
    "    transform_category(_df, \"Main_transportation\")\n",
    "    \n",
    "transform_manual(df_validation)\n",
    "transform_manual(df_new)\n",
    "                 "
   ]
  },
  {
   "cell_type": "markdown",
   "metadata": {},
   "source": [
    "#### Now lets scale all the numeric features"
   ]
  },
  {
   "cell_type": "code",
   "execution_count": null,
   "metadata": {
    "collapsed": true
   },
   "outputs": [],
   "source": [
    "from sklearn.preprocessing import MinMaxScaler\n",
    "from sklearn import preprocessing\n",
    "\n",
    "# df_new.describe()\n",
    "def scale_numeric(_df, features):\n",
    "    for f in features:\n",
    "        _df[f] = (_df[f] - _df[f].min()) / (_df[f].max() - _df[f].min())\n",
    "        \n",
    "scale_numeric(df_validation, numeric_features)\n",
    "scale_numeric(df_new, numeric_features)\n",
    "\n"
   ]
  },
  {
   "cell_type": "code",
   "execution_count": null,
   "metadata": {},
   "outputs": [],
   "source": [
    "df_new.info()"
   ]
  },
  {
   "cell_type": "code",
   "execution_count": null,
   "metadata": {
    "collapsed": true
   },
   "outputs": [],
   "source": [
    "fixes_useful_features = [ #fixed\n",
    "    'Avg_Satisfaction_with_previous_vote',\n",
    "    'Number_of_valued_Kneset_members',\n",
    "    'Yearly_IncomeK',\n",
    "    'Overall_happiness_score',\n",
    "    'Avg_monthly_expense_when_under_age_21',\n",
    "    'Will_vote_only_large_party',\n",
    "    'Garden_sqr_meter_per_person_in_residancy_area',\n",
    "    'Is_Most_Important_Issue_Other',\n",
    "    'Is_Most_Important_Issue_Financial',\n",
    "    'Is_Most_Important_Issue_Environment',\n",
    "    'Is_Most_Important_Issue_Military',\n",
    "    'Is_Most_Important_Issue_Education',\n",
    "    'Is_Most_Important_Issue_Foreign_Affairs',\n",
    "    'Is_Most_Important_Issue_Social',\n",
    "    'Weighted_education_rank'\n",
    "]\n",
    "\n",
    "fixes_useful_features = [\n",
    "    'Avg_Satisfaction_with_previous_vote',\n",
    "    'Number_of_valued_Kneset_members',\n",
    "    'Yearly_IncomeK',\n",
    "    'Overall_happiness_score',\n",
    "    'Avg_monthly_expense_when_under_age_21',\n",
    "    'Will_vote_only_large_party',\n",
    "    'Garden_sqr_meter_per_person_in_residancy_area',\n",
    "    'Is_Most_Important_Issue_Other',\n",
    "    'Is_Most_Important_Issue_Financial',\n",
    "    'Is_Most_Important_Issue_Environment',\n",
    "    'Is_Most_Important_Issue_Military',\n",
    "    'Is_Most_Important_Issue_Education',\n",
    "    'Is_Most_Important_Issue_Foreign_Affairs',\n",
    "    'Is_Most_Important_Issue_Social'\n",
    "]"
   ]
  },
  {
   "cell_type": "code",
   "execution_count": null,
   "metadata": {
    "collapsed": true
   },
   "outputs": [],
   "source": [
    "df_validation['Vote'] = validation_labels\n",
    "df_validation[fixes_useful_features + ['Vote']].to_csv('./data/output/validation_fixed.csv', index=False, sep=',')\n",
    "df_validation_clean = df_validation[fixes_useful_features]\n",
    "df_new['IdentityCard_Num'] = new_data_IDs\n",
    "df_new[fixes_useful_features + ['IdentityCard_Num']].to_csv('./data/output/new_fixed.csv', index=False, sep=',')\n",
    "df_new_clean = df_new[fixes_useful_features]"
   ]
  },
  {
   "cell_type": "markdown",
   "metadata": {},
   "source": [
    "# WE ARE DONE WITH PART ONE - DATA PREPERATION\n",
    "\n",
    "### Now we load the data we prepared in previous excerces\n",
    "We will use train and test data for training.\n",
    "\n",
    "We will use valdation data to measure our prediction.\n",
    "\n"
   ]
  },
  {
   "cell_type": "code",
   "execution_count": null,
   "metadata": {
    "collapsed": true
   },
   "outputs": [],
   "source": [
    "df_train_X, df_train_Y, df_test_X, df_test_Y, labels = load_prepared_data()\n",
    "df_train_Y_nums = df_train_Y\n",
    "df_test_Y_nums = df_test_Y\n",
    "df_train_Y = df_train_Y.map(lambda x: labels[int(x)])\n",
    "df_test_Y = df_test_Y.map(lambda x: labels[int(x)])\n",
    "\n",
    "# df_train_X = df_train_X.append(df_test_X)\n",
    "# df_train_Y = df_train_Y.append(df_test_Y)\n",
    "\n",
    "train_val_data = pd.concat([df_train_X])\n",
    "features = train_val_data.values\n",
    "labels = pd.concat([df_train_Y]).values\n",
    "\n",
    "\n",
    "features_test = df_validation_clean\n",
    "\n"
   ]
  },
  {
   "cell_type": "code",
   "execution_count": null,
   "metadata": {
    "collapsed": true
   },
   "outputs": [],
   "source": [
    "df_train_X, df_train_Y, df_test_X, df_test_Y, labels = load_prepared_data()\n",
    "df_train_Y_nums = df_train_Y\n",
    "df_test_Y_nums = df_test_Y\n",
    "df_train_Y = df_train_Y.map(lambda x: labels[int(x)])\n",
    "df_test_Y = df_test_Y.map(lambda x: labels[int(x)])\n",
    "\n",
    "train_val_data = pd.concat([df_train_X])\n",
    "features = train_val_data.values\n",
    "target = pd.concat([df_train_Y]).values"
   ]
  },
  {
   "cell_type": "code",
   "execution_count": null,
   "metadata": {},
   "outputs": [],
   "source": [
    "for f in df_train_X.columns:\n",
    "    df_train_X[f].plot(kind='kde')\n",
    "    df_test_X[f].plot(kind='kde')\n",
    "    df_validation_clean[f].plot(kind='kde')\n",
    "    plt.title(f)\n",
    "    plt.show()"
   ]
  },
  {
   "cell_type": "code",
   "execution_count": null,
   "metadata": {},
   "outputs": [],
   "source": [
    "clf = RandomForestClassifier(min_samples_split=4, random_state=0)\n",
    "clf.fit(features, target)"
   ]
  },
  {
   "cell_type": "code",
   "execution_count": null,
   "metadata": {},
   "outputs": [],
   "source": [
    "pred = clf.predict(df_test_X)\n",
    "distribution = Counter(pred)\n",
    "print distribution\n",
    "print \"predicted winner is party ## %s ##\" % distribution.most_common(1)[0][0]\n",
    "print labels[6]\n",
    "\n",
    "\n",
    "pred = clf.predict(df_validation_clean)\n",
    "distribution = Counter(pred)\n",
    "print distribution\n",
    "print \"predicted winner is party ## %s ##\" % distribution.most_common(1)[0][0]\n",
    "print labels[6]\n",
    "# distribution = np.bincount(pred.astype('int64'))\n",
    "# most_common = np.argmax(distribution)\n",
    "\n",
    "# print \"winner is party ## %s ##\" % labels[most_common.astype('int')]"
   ]
  },
  {
   "cell_type": "code",
   "execution_count": null,
   "metadata": {
    "collapsed": true
   },
   "outputs": [],
   "source": []
  }
 ],
 "metadata": {
  "kernelspec": {
   "display_name": "Python 2",
   "language": "python",
   "name": "python2"
  },
  "language_info": {
   "codemirror_mode": {
    "name": "ipython",
    "version": 2
   },
   "file_extension": ".py",
   "mimetype": "text/x-python",
   "name": "python",
   "nbconvert_exporter": "python",
   "pygments_lexer": "ipython2",
   "version": "2.7.13"
  }
 },
 "nbformat": 4,
 "nbformat_minor": 2
}
